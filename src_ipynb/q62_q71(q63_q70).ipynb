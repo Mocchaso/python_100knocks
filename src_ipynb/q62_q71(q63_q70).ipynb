{
 "cells": [
  {
   "cell_type": "code",
   "execution_count": 11,
   "metadata": {},
   "outputs": [
    {
     "name": "stdout",
     "output_type": "stream",
     "text": [
      "記事内の解法\n",
      "2018-07-18\n"
     ]
    }
   ],
   "source": [
    "# q62(q63)\n",
    "# 現在の日付をtoday.txtというテキストファイルに文字列の形で書き込みなさい\n",
    "\n",
    "import datetime\n",
    "with open(\"today.txt\", \"w\") as file:\n",
    "    file.write(str(datetime.date.today()))\n",
    "\n",
    "# 記事内の解法\n",
    "print(\"記事内の解法\")\n",
    "\n",
    "from datetime import date\n",
    "\n",
    "now = date.today()\n",
    "now_str = now.isoformat() #文字列の形にする\n",
    "with open(\"today.txt\", \"wt\") as outfile:\n",
    "    outfile.write(now_str)\n",
    "print(now_str)"
   ]
  },
  {
   "cell_type": "code",
   "execution_count": 29,
   "metadata": {},
   "outputs": [
    {
     "name": "stdout",
     "output_type": "stream",
     "text": [
      "2018-07-18 00:00:00\n"
     ]
    }
   ],
   "source": [
    "# q63(q64)\n",
    "# today.txtから日付を解析し取り出しなさい\n",
    "\n",
    "with open(\"today.txt\", \"rt\") as file:\n",
    "    date_analyzed = datetime.datetime.strptime(file.readline(), \"%Y-%m-%d\")\n",
    "    print(date_analyzed)\n",
    "\n",
    "# 記事内の解法\n",
    "# timeモジュール内のstrptimeメソッド、日付フォーマットを使っている"
   ]
  },
  {
   "cell_type": "code",
   "execution_count": 32,
   "metadata": {},
   "outputs": [
    {
     "name": "stdout",
     "output_type": "stream",
     "text": [
      "カレントディレクトリ：['.ipynb_checkpoints', 'books.csv', 'books.db', 'many_books.csv', 'q11.txt', 'q11_q15.ipynb', 'q16_q20.ipynb', 'q1_q5.ipynb', 'q21_q25.ipynb', 'q26_q30.ipynb', 'q31_q35.ipynb', 'q36_q40.ipynb', 'q41_q44.ipynb', 'q45_q48.ipynb', 'q49_q52.ipynb', 'q53_q61.ipynb', 'q6_q10.ipynb', 'test.txt', 'today.txt', 'Untitled.ipynb']\n",
      "\n",
      "親ディレクトリ：['.ipynb_checkpoints', 'src_ipynb']\n"
     ]
    }
   ],
   "source": [
    "# q64(q65)\n",
    "# ディレクトリの扱いの練習\n",
    "# 問題：カレントディレクトリと親ディレクトリのファイルのリストをそれぞれ表示せよ\n",
    "\n",
    "import os\n",
    "\n",
    "# カレントディレクトリ\n",
    "print(\"カレントディレクトリ：{}\\n\".format(os.listdir(\".\")))\n",
    "# 親ディレクトリ\n",
    "print(\"親ディレクトリ：{}\".format(os.listdir(\"..\")))"
   ]
  },
  {
   "cell_type": "code",
   "execution_count": 36,
   "metadata": {},
   "outputs": [
    {
     "name": "stdout",
     "output_type": "stream",
     "text": [
      "木曜日\n"
     ]
    }
   ],
   "source": [
    "# q65(q66)\n",
    "# 自分の誕生日が何曜日だったか確認\n",
    "\n",
    "from datetime import date\n",
    "\n",
    "my_birthday = date(1997, 3, 20)\n",
    "if my_birthday.weekday() == 0:\n",
    "    print(\"月曜日\")\n",
    "elif my_birthday.weekday() == 1:\n",
    "    print(\"火曜日\")\n",
    "elif my_birthday.weekday() == 2:\n",
    "    print(\"水曜日\")\n",
    "elif my_birthday.weekday() == 3:\n",
    "    print(\"木曜日\")\n",
    "elif my_birthday.weekday() == 4:\n",
    "    print(\"金曜日\")\n",
    "elif my_birthday.weekday() == 5:\n",
    "    print(\"土曜日\")\n",
    "elif my_birthday.weekday() == 6:\n",
    "    print(\"日曜日\")"
   ]
  },
  {
   "cell_type": "code",
   "execution_count": 38,
   "metadata": {},
   "outputs": [
    {
     "name": "stdout",
     "output_type": "stream",
     "text": [
      "2024-08-05\n"
     ]
    }
   ],
   "source": [
    "# q66(q67)\n",
    "# 自分が生まれてから10000日になるのはいつか確認\n",
    "\n",
    "import datetime\n",
    "from datetime import date\n",
    "\n",
    "result = date(1997, 3, 20) + datetime.timedelta(days=10000)\n",
    "print(result)"
   ]
  },
  {
   "cell_type": "code",
   "execution_count": 2,
   "metadata": {},
   "outputs": [
    {
     "data": {
      "text/html": [
       "<div>\n",
       "<style>\n",
       "    .dataframe thead tr:only-child th {\n",
       "        text-align: right;\n",
       "    }\n",
       "\n",
       "    .dataframe thead th {\n",
       "        text-align: left;\n",
       "    }\n",
       "\n",
       "    .dataframe tbody tr th {\n",
       "        vertical-align: top;\n",
       "    }\n",
       "</style>\n",
       "<table border=\"1\" class=\"dataframe\">\n",
       "  <thead>\n",
       "    <tr style=\"text-align: right;\">\n",
       "      <th></th>\n",
       "      <th>名前</th>\n",
       "      <th>年齢</th>\n",
       "      <th>性別</th>\n",
       "    </tr>\n",
       "  </thead>\n",
       "  <tbody>\n",
       "    <tr>\n",
       "      <th>0</th>\n",
       "      <td>山田</td>\n",
       "      <td>20</td>\n",
       "      <td>男</td>\n",
       "    </tr>\n",
       "    <tr>\n",
       "      <th>1</th>\n",
       "      <td>鈴木</td>\n",
       "      <td>34</td>\n",
       "      <td>男</td>\n",
       "    </tr>\n",
       "    <tr>\n",
       "      <th>2</th>\n",
       "      <td>佐藤</td>\n",
       "      <td>50</td>\n",
       "      <td>女</td>\n",
       "    </tr>\n",
       "    <tr>\n",
       "      <th>3</th>\n",
       "      <td>田中</td>\n",
       "      <td>12</td>\n",
       "      <td>男</td>\n",
       "    </tr>\n",
       "    <tr>\n",
       "      <th>4</th>\n",
       "      <td>斉藤</td>\n",
       "      <td>62</td>\n",
       "      <td>女</td>\n",
       "    </tr>\n",
       "  </tbody>\n",
       "</table>\n",
       "</div>"
      ],
      "text/plain": [
       "   名前  年齢 性別\n",
       "0  山田  20  男\n",
       "1  鈴木  34  男\n",
       "2  佐藤  50  女\n",
       "3  田中  12  男\n",
       "4  斉藤  62  女"
      ]
     },
     "execution_count": 2,
     "metadata": {},
     "output_type": "execute_result"
    }
   ],
   "source": [
    "# q67(q68)\n",
    "# 指定のデータフレームを作成せよ\n",
    "\n",
    "import pandas as pd\n",
    "\n",
    "df = pd.DataFrame({\"名前\": [\"山田\", \"鈴木\", \"佐藤\", \"田中\", \"斉藤\"], \"年齢\": [20, 34, 50, 12, 62], \"性別\": [\"男\", \"男\", \"女\", \"男\", \"女\"]})\n",
    "df"
   ]
  },
  {
   "cell_type": "code",
   "execution_count": 3,
   "metadata": {},
   "outputs": [
    {
     "data": {
      "text/html": [
       "<div>\n",
       "<style>\n",
       "    .dataframe thead tr:only-child th {\n",
       "        text-align: right;\n",
       "    }\n",
       "\n",
       "    .dataframe thead th {\n",
       "        text-align: left;\n",
       "    }\n",
       "\n",
       "    .dataframe tbody tr th {\n",
       "        vertical-align: top;\n",
       "    }\n",
       "</style>\n",
       "<table border=\"1\" class=\"dataframe\">\n",
       "  <thead>\n",
       "    <tr style=\"text-align: right;\">\n",
       "      <th></th>\n",
       "      <th>名前</th>\n",
       "      <th>年齢</th>\n",
       "      <th>性別</th>\n",
       "    </tr>\n",
       "  </thead>\n",
       "  <tbody>\n",
       "    <tr>\n",
       "      <th>0</th>\n",
       "      <td>山田</td>\n",
       "      <td>20</td>\n",
       "      <td>男</td>\n",
       "    </tr>\n",
       "    <tr>\n",
       "      <th>1</th>\n",
       "      <td>鈴木</td>\n",
       "      <td>34</td>\n",
       "      <td>男</td>\n",
       "    </tr>\n",
       "    <tr>\n",
       "      <th>3</th>\n",
       "      <td>田中</td>\n",
       "      <td>12</td>\n",
       "      <td>男</td>\n",
       "    </tr>\n",
       "  </tbody>\n",
       "</table>\n",
       "</div>"
      ],
      "text/plain": [
       "   名前  年齢 性別\n",
       "0  山田  20  男\n",
       "1  鈴木  34  男\n",
       "3  田中  12  男"
      ]
     },
     "execution_count": 3,
     "metadata": {},
     "output_type": "execute_result"
    }
   ],
   "source": [
    "# q68(q69)\n",
    "# 年齢が35歳よりも下の人だけを表から取り出しなさい\n",
    "\n",
    "df[df[\"年齢\"] < 35]\n",
    "# df[\"年齢\"] < 35：指定した条件に関するbool値を含むリスト"
   ]
  },
  {
   "cell_type": "code",
   "execution_count": 4,
   "metadata": {},
   "outputs": [
    {
     "name": "stdout",
     "output_type": "stream",
     "text": [
      "行の追加\n",
      "       名前  年齢 性別\n",
      "0      山田  20  男\n",
      "1      鈴木  34  男\n",
      "2      佐藤  50  女\n",
      "3      田中  12  男\n",
      "4      斉藤  62  女\n",
      "5_new  池田  22  女\n",
      "\n",
      "列の追加\n",
      "       名前  年齢 性別  居住地\n",
      "0      山田  20  男  神奈川\n",
      "1      鈴木  34  男   東京\n",
      "2      佐藤  50  女   千葉\n",
      "3      田中  12  男   山梨\n",
      "4      斉藤  62  女   栃木\n",
      "5_new  池田  22  女   群馬\n",
      "\n",
      "記事内の解法\n",
      "\n",
      "行の追加\n",
      "   名前  年齢 性別\n",
      "0  山田  20  男\n",
      "1  鈴木  34  男\n",
      "2  佐藤  50  女\n",
      "3  田中  12  男\n",
      "4  斉藤  62  女\n",
      "0  池田  22  女\n",
      "\n",
      "indexを変更\n",
      "   名前  年齢 性別\n",
      "0  山田  20  男\n",
      "1  鈴木  34  男\n",
      "2  佐藤  50  女\n",
      "3  田中  12  男\n",
      "4  斉藤  62  女\n",
      "5  池田  22  女\n",
      "\n",
      "列の追加_新たな列を代入\n",
      "   名前  年齢 性別  居住地\n",
      "0  山田  20  男   東京\n",
      "1  鈴木  34  男   大阪\n",
      "2  佐藤  50  女  北海道\n",
      "3  田中  12  男   宮城\n",
      "4  斉藤  62  女   富山\n",
      "5  池田  22  女   大分\n"
     ]
    }
   ],
   "source": [
    "# q69(q70)\n",
    "# 内容の追加\n",
    "# 問題：なんか適当に新しい行と新しい列を追加してみましょう\n",
    "# 例：新たに「池田」を追加し、新たに「居住地」という列を追加する\n",
    "\n",
    "# 行の追加\n",
    "s = pd.Series([\"池田\", 22, \"女\"], index=df.columns, name=\"5_new\")\n",
    "df_append = df.append(s)\n",
    "print(\"行の追加\")\n",
    "print(df_append)\n",
    "print()\n",
    "\n",
    "# 列の追加\n",
    "df_append[\"居住地\"] = [\"神奈川\", \"東京\", \"千葉\", \"山梨\", \"栃木\", \"群馬\"]\n",
    "print(\"列の追加\")\n",
    "print(df_append)\n",
    "\n",
    "## 記事内の解法\n",
    "print(\"\\n記事内の解法\\n\")\n",
    "\n",
    "import numpy as np\n",
    "\n",
    "# 行の追加\n",
    "row = pd.DataFrame({'名前': ['池田'],\n",
    "                    '年齢': [22],\n",
    "                    '性別': '女'})\n",
    "\n",
    "# 行の追加（行: axis=0, 列: axis=1）\n",
    "print(\"行の追加\")\n",
    "df_2 = pd.concat([df,row], axis=0)\n",
    "print(df_2)\n",
    "print()\n",
    "\n",
    "# indexを変更\n",
    "# np.agrangeで0〜6の数字が並んだ配列を生成\n",
    "df_2.index = np.arange(len(df_2))\n",
    "print(\"indexを変更\")\n",
    "print(df_2)\n",
    "print()\n",
    "\n",
    "# 列の追加\n",
    "# 新たな列を代入\n",
    "df_2['居住地'] = ['東京', '大阪', '北海道', '宮城', '富山', '大分']\n",
    "print(\"列の追加_新たな列を代入\")\n",
    "print(df_2)"
   ]
  },
  {
   "cell_type": "code",
   "execution_count": 15,
   "metadata": {},
   "outputs": [
    {
     "name": "stdout",
     "output_type": "stream",
     "text": [
      "       名前  年齢  居住地\n",
      "0      山田  20  神奈川\n",
      "1      鈴木  34   東京\n",
      "2      佐藤  50   千葉\n",
      "3      田中  12   山梨\n",
      "4      斉藤  62   栃木\n",
      "5_new  池田  22   群馬\n"
     ]
    }
   ],
   "source": [
    "# q70(q71)\n",
    "# 内容の削除\n",
    "# 問題：「性別」の列を削除せよ\n",
    "\n",
    "df_append_copy = df_append.copy()\n",
    "df_dropped = df_append_copy.drop(\"性別\", axis=1)\n",
    "print(df_dropped)"
   ]
  },
  {
   "cell_type": "code",
   "execution_count": 17,
   "metadata": {},
   "outputs": [
    {
     "name": "stdout",
     "output_type": "stream",
     "text": [
      "      name  age residence\n",
      "0       山田   20       神奈川\n",
      "1       鈴木   34        東京\n",
      "2       佐藤   50        千葉\n",
      "3       田中   12        山梨\n",
      "4       斉藤   62        栃木\n",
      "5_new   池田   22        群馬\n"
     ]
    }
   ],
   "source": [
    "# q71(q72)\n",
    "# 列名を変更\n",
    "# 問題：「名前」を「name」、「年齢」を「age」、「居住地」を「residence」に変更せよ\n",
    "\n",
    "df_dropped.columns = [\"name\", \"age\", \"residence\"]\n",
    "print(df_dropped)"
   ]
  },
  {
   "cell_type": "code",
   "execution_count": null,
   "metadata": {
    "collapsed": true
   },
   "outputs": [],
   "source": []
  }
 ],
 "metadata": {
  "kernelspec": {
   "display_name": "Python 3",
   "language": "python",
   "name": "python3"
  },
  "language_info": {
   "codemirror_mode": {
    "name": "ipython",
    "version": 3
   },
   "file_extension": ".py",
   "mimetype": "text/x-python",
   "name": "python",
   "nbconvert_exporter": "python",
   "pygments_lexer": "ipython3",
   "version": "3.6.3"
  }
 },
 "nbformat": 4,
 "nbformat_minor": 2
}
