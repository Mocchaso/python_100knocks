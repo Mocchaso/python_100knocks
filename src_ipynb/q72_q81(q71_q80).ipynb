{
 "cells": [
  {
   "cell_type": "code",
   "execution_count": 2,
   "metadata": {},
   "outputs": [
    {
     "name": "stdout",
     "output_type": "stream",
     "text": [
      "良い整数です\n"
     ]
    },
    {
     "data": {
      "text/plain": [
       "True"
      ]
     },
     "execution_count": 2,
     "metadata": {},
     "output_type": "execute_result"
    }
   ],
   "source": [
    "# q72(q71)\n",
    "# 連続した数かどうか\n",
    "# 問題：1118 のような、3 つ以上の同じ数字が連続して並んだ 4 桁の整数を 良い整数 とします。\n",
    "# 4 桁の整数 N が与えられるので、N が 良い整数 かどうかを答えてください。\n",
    "\n",
    "def good_num(N):\n",
    "    n = str(N)\n",
    "    if len(n) != 4:\n",
    "        print(\"整数Nは4桁ではありません\")\n",
    "        return False\n",
    "    if n[0] == n[1] == n[2] or n[1] == n[2] == n[3]:\n",
    "        print(\"良い整数です\")\n",
    "        return True\n",
    "    else:\n",
    "        print(\"良い整数ではありません\")\n",
    "        return False\n",
    "\n",
    "good_num(1116)"
   ]
  },
  {
   "cell_type": "code",
   "execution_count": 18,
   "metadata": {},
   "outputs": [
    {
     "name": "stdout",
     "output_type": "stream",
     "text": [
      "47\n",
      "記事内の解法：7\n"
     ]
    }
   ],
   "source": [
    "# q73(q72)\n",
    "# リュカ数\n",
    "# 問題： 整数 N が与えられるので、N 番目のリュカ数を求めてください。\n",
    "# ただし、リュカ数は i 番目のリュカ数を Li とすると、 L0=2 L1=1 Li=Li−1+Li−2(i≧2) と定義される数とします。\n",
    "# 補足\n",
    "# リュカ数...原理はフィボナッチ数列と同じなんですが１番目が2,2番目が1と決められている数列になります。\n",
    "# 2, 1, 3, 4, 7, 11, 18, 29, 47, ...\n",
    "\n",
    "def lucas(N):\n",
    "    if N == 0:\n",
    "        return 2\n",
    "    if N == 1:\n",
    "        return 1\n",
    "    \n",
    "    lucas_list = [2, 1]\n",
    "    for i in range(2, N+1):\n",
    "        lucas_list.append(lucas_list[i-1]+lucas_list[i-2])\n",
    "    return lucas_list[N]\n",
    "\n",
    "print(lucas(8))\n",
    "\n",
    "## 記事内の解法\n",
    "\n",
    "def lucas2(n):\n",
    "    n = int(n)\n",
    "    if n == 0:\n",
    "        return 2\n",
    "    elif n == 1:\n",
    "        return 1\n",
    "    else:\n",
    "        return lucas2(n - 1) + lucas2(n - 2)\n",
    "\n",
    "print(\"記事内の解法：{}\".format(lucas2(4)))"
   ]
  },
  {
   "cell_type": "code",
   "execution_count": 28,
   "metadata": {},
   "outputs": [
    {
     "name": "stdout",
     "output_type": "stream",
     "text": [
      "1-1+6+1\n",
      "1+1+6-1\n",
      "A, B, C, Dの1つ以上が範囲外です\n",
      "impossible\n",
      "\n",
      "記事内の解法\n",
      "1+1+6-1=7\n",
      "1-1+6+1=7\n"
     ]
    }
   ],
   "source": [
    "# q74(q73)\n",
    "# 途中式の自動作成\n",
    "# 問題：4 つの 0 以上 9 以下の整数 A,B,C,D を順に受けとります。\n",
    "# A op1 B op2 C op3 D = 7 となるように、op1,op2,op3 に + か - を入れて式を自動で作り表示しなさい。\n",
    "# なお、答えが存在しない場合は\"impossible\"と表示し、また答えが複数存在する場合は全て表示させなさい。\n",
    "\n",
    "def auto_make(A, B, C, D):\n",
    "    try:\n",
    "        if (A < 0 or 9 < A) or (B < 0 or 9 < B) or (C < 0 or 9 < C) or (D < 0 or 9 < D):\n",
    "            raise ValueError(\"A, B, C, Dの1つ以上が範囲外です\")\n",
    "    except ValueError as e:\n",
    "        print(e)\n",
    "    \n",
    "    answer_list = []\n",
    "    if A+B+C+D == 7:\n",
    "        answer_list.append(\"{}+{}+{}+{}\".format(A,B,C,D))\n",
    "    if A-B+C+D == 7:\n",
    "        answer_list.append(\"{}-{}+{}+{}\".format(A,B,C,D))\n",
    "    if A+B+C-D == 7:\n",
    "        answer_list.append(\"{}+{}+{}-{}\".format(A,B,C,D))\n",
    "    if A+B-C-D == 7:\n",
    "        answer_list.append(\"{}+{}-{}-{}\".format(A,B,C,D))\n",
    "    if A-B+C-D == 7:\n",
    "        answer_list.append(\"{}-{}+{}-{}\".format(A,B,C,D))\n",
    "    if A-B-C+D == 7:\n",
    "        answer_list.append(\"{}-{}-{}+{}\".format(A,B,C,D))\n",
    "    if A-B-C-D == 7:\n",
    "        answer_list.append(\"{}-{}-{}-{}\".format(A,B,C,D))\n",
    "    if len(answer_list) == 0:\n",
    "        print(\"impossible\")\n",
    "        return False\n",
    "    \n",
    "    for i in answer_list:\n",
    "        print(i)\n",
    "\n",
    "auto_make(1,1,6,1)\n",
    "auto_make(1,1,10,1)\n",
    "\n",
    "## 記事内の解法\n",
    "print(\"\\n記事内の解法\")\n",
    "\n",
    "def put_formula(n):\n",
    "    a,b,c,d = list(str(n))\n",
    "    sign = \"+-\"\n",
    "    aws_list = []\n",
    "    for i in range(2):  # 1つ目の記号\n",
    "        for j in range(2):  # 2つ目の記号\n",
    "            for k in range(2):  # 3つ目の記号\n",
    "                if eval(a+sign[i]+b+sign[j]+c+sign[k]+d) == 7:\n",
    "                    aws = (str(a+sign[i]+b+sign[j]+c+sign[k]+d)+\"=7\")\n",
    "                    aws_list.append(aws)\n",
    "                    print(aws)\n",
    "    if len(aws_list) == 0:\n",
    "        print(\"impossible\")\n",
    "\n",
    "put_formula(1161)"
   ]
  },
  {
   "cell_type": "code",
   "execution_count": 53,
   "metadata": {},
   "outputs": [
    {
     "name": "stdout",
     "output_type": "stream",
     "text": [
      "ディープインパクトZ100について\n",
      "説明：\n",
      "                            ドライブ性・振り抜き性・ホールド性から「コントロール」を追求した90インチの中上級者向け後衛モデル。\n",
      "\n",
      "価格：¥23,760(本体価格¥22,000)\n",
      "\n",
      "記事内の解法\n",
      "\n",
      "['引越し見積もりする', '使い方', 'サイトマップ', 'お問い合わせ', '掲載をご検討中の会社様へ', '', '【SUUMO引越し】見積もり比較サイト', '無料あなたの引越しはいくら？一番安い引越し業者を探す', 'アート引越センター', '割引', '資材', 'この業者の口コミを見る', 'サカイ引越センター', 'クロネコヤマトの引越サービス', 'ハート引越センター', '回収', 'アーク引越センター', 'アリさんマークの引越社', 'やさか引越センター', '遠州トラックしまうま引越センター', 'ベスト引越サービス', '澁澤引越センター', 'エスラインギフのスワロー引越便', '長距離引越しに自信あり♪引越のプロロ', 'キリン引越センター', '【ラク越】', '人力引越社', 'アップル引越センター', 'アクティブ感動引越センター', '引越のムーバーズ(MOVERS)', '博多引越本舗', 'LIVE引越サービス', 'マイスター引越センター', 'スター引越センター', '引越し本舗', 'レジェンド引越サービス', 'ヴォイス引越センター', '引越一番', 'フクフク引越センター', 'ハロー引越センター', 'はこびー引越センター', 'エール引越センター', 'シモツ引越サービス', '介護福祉の引越専門\\u3000Ｎｙエヌワイサービス', 'リズム引越サービス', 'なにわ引越センター', 'イナミ引越サービス', '隆星引越センター', 'KIZUNA引越センター', 'ニコニコ引越センター', '興進引越センター', 'ミッションムーバーズ', 'ワクワク引越サービス', 'トレファク引越', 'エール引越サービス', 'ヨシダトランスポート', 'サークルワン株式会社', 'LifeLink引越センター', 'くらうど引越センター', '株式会社シード', 'AOI引越事業部', '東京ムービング', '旭川発格安引越し㈲旭春運送', 'レディアス引越センター', '北海道', '札幌市', '青森県', '秋田県', '山形県', '岩手県', '宮城県', '仙台市', '福島県', '東京都', '神奈川県', '横浜市', '川崎市', '相模原市', '埼玉県', 'さいたま市', '千葉県', '千葉市', '栃木県', '茨城県', '群馬県', '新潟県', '新潟市', '山梨県', '長野県', '石川県', '富山県', '福井県', '愛知県', '名古屋市', '岐阜県', '静岡県', '静岡市', '浜松市', '三重県', '大阪府', '大阪市', '堺市', '兵庫県', '神戸市', '京都府', '京都市', '滋賀県', '奈良県', '和歌山県', '岡山県', '岡山市', '広島県', '広島市', '鳥取県', '島根県', '山口県', '香川県', '徳島県', '愛媛県', '高知県', '福岡県', '福岡市', '北九州市', '佐賀県', '長崎県', '熊本県', '熊本市', '大分県', '宮崎県', '鹿児島県', '沖縄県', '引越し口コミ', '最小料金の引越し口コミ', '最大料金の引越し口コミ', '無料あなたの引越しはいくら？あなたの引越し料金を調べる', '↑ページの先頭へ戻る', '利用規約', 'プライバシーポリシー', '不動産・住宅サイト SUUMO(スーモ)', '賃貸', '賃貸マンション', '賃貸アパート', '賃貸一戸建て', 'マンション', '新築分譲マンション', '中古マンション', '新築一戸建て', '中古一戸建て', '土地', '注文住宅', '住宅リフォーム', '住宅設備', '不動産売却・査定', '新築相談', '引越し見積もり', '住宅ローン', '物件ライブラリー', '東北', '関東', '甲信越・北陸', '東海', '関西', '四国', '中国', '九州・沖縄', 'リクルートへ']\n"
     ]
    }
   ],
   "source": [
    "# q75(q74)\n",
    "# Wikipediaにある車種をすべてスクレイピングせよ\n",
    "\n",
    "from bs4 import BeautifulSoup\n",
    "import urllib\n",
    "\n",
    "url = \"https://www.mizunoshop.net/f/dsg-574339\"\n",
    "data = urllib.request.urlopen(url)\n",
    "html = data.read()\n",
    "soup = BeautifulSoup(html, \"lxml\")\n",
    "soup.prettify()\n",
    "\n",
    "item_detail = soup.find(\"div\", class_=\"item_detail\")\n",
    "diz100_description = item_detail.find(\"h2\", class_=\"txt_catch\")\n",
    "diz100_price = item_detail.find(\"span\", class_=\"price\")\n",
    "diz100_sub = item_detail.find(\"span\", class_=\"sub\")\n",
    "\n",
    "print(\"ディープインパクトZ100について\")\n",
    "print(\"説明：{}\".format(diz100_description.text))\n",
    "print(\"価格：{}{}\".format(diz100_price.text, diz100_sub.text))\n",
    "\n",
    "## 記事内の解法\n",
    "print(\"\\n記事内の解法\\n\")\n",
    "\n",
    "import requests\n",
    "from bs4 import BeautifulSoup\n",
    "\n",
    "r = requests.get('https://hikkoshi.suumo.jp/sankaku/')\n",
    "soup = BeautifulSoup(r.text, 'html.parser')\n",
    "titleTags = soup.select('a')\n",
    "names = []\n",
    "for titleTag in titleTags:\n",
    "    name = titleTag.text.strip()\n",
    "    names.append(name)\n",
    "#distinct_names = list(set(names))\n",
    "\n",
    "names_uniq = []\n",
    "for d_name in names:\n",
    "    if d_name not in names_uniq:\n",
    "        names_uniq.append(d_name)\n",
    "\n",
    "\n",
    "print(names_uniq)"
   ]
  },
  {
   "cell_type": "code",
   "execution_count": 67,
   "metadata": {},
   "outputs": [
    {
     "name": "stdout",
     "output_type": "stream",
     "text": [
      "['Hello', 'world']\n",
      "Hello\n",
      "\n",
      "['a', 'word']\n",
      "a\n",
      "\n",
      "['greetings', 'friends']\n",
      "greetings\n",
      "\n",
      "['and', 'so', 'on']\n",
      "and\n",
      "\n",
      "['Hello', 'World']\n",
      "Hello\n",
      "\n"
     ]
    },
    {
     "data": {
      "text/plain": [
       "'Hello'"
      ]
     },
     "execution_count": 67,
     "metadata": {},
     "output_type": "execute_result"
    }
   ],
   "source": [
    "# q76(q75)\n",
    "# 文章の最初の文字を表示\n",
    "# 問題：与えられた文章の内、最初の文字を表示しなさい\n",
    "# 条件：　'.'や','や空白は文字としてカウントしない。\n",
    "# 例：　\n",
    "# first_word(\"Hello world\") == \"Hello\"\n",
    "# first_word(\" a word \") == \"a\"\n",
    "# first_word(\"greetings, friends\") == \"greetings\"\n",
    "# first_word(\"... and so on ...\") == \"and\"\n",
    "# first_word(\"Hello.World\") == \"Hello\"\n",
    "\n",
    "def first_word(sentence):\n",
    "    sentence_replaced = sentence\n",
    "    if \",\" in sentence:\n",
    "        sentence_replaced = sentence.replace(\",\", \" \")\n",
    "    if \".\" in sentence:\n",
    "        sentence_replaced = sentence.replace(\".\", \" \")\n",
    "    \n",
    "    words = sentence_replaced.split()\n",
    "    print(words)\n",
    "    print(words[0])\n",
    "    print()\n",
    "    return words[0]\n",
    "\n",
    "first_word(\"Hello world\")\n",
    "first_word(\" a word \")\n",
    "first_word(\"greetings, friends\")\n",
    "first_word(\"... and so on ...\")\n",
    "first_word(\"Hello.World\")"
   ]
  },
  {
   "cell_type": "code",
   "execution_count": 4,
   "metadata": {},
   "outputs": [
    {
     "name": "stdout",
     "output_type": "stream",
     "text": [
      "シンボルaは2回も出てきません\n"
     ]
    },
    {
     "data": {
      "text/plain": [
       "False"
      ]
     },
     "execution_count": 4,
     "metadata": {},
     "output_type": "execute_result"
    }
   ],
   "source": [
    "# q77(q76)\n",
    "# テキスト内で2回目にシンボルが出てくるのは何番目か\n",
    "# 問題：テキスト文と文字がそれぞれ与えられる。\n",
    "# 与えられたテキスト文のうち、文字が２回目に出てくるのはテキスト文のうち何番目かを表示せよ。\n",
    "\n",
    "def second_symbol(text, symbol):\n",
    "    count = 0\n",
    "    for i in range(len(text)):\n",
    "        if text[i] == symbol:\n",
    "            count += 1\n",
    "        if count == 2:\n",
    "            print(\"シンボル{}が2回目に出てくるのは{}番目です\".format(symbol, i))\n",
    "            return True\n",
    "    if count < 2:\n",
    "        print(\"シンボル{}は2回も出てきません\".format(symbol))\n",
    "        return False\n",
    "\n",
    "second_symbol(\"soft tennis\", \"a\")"
   ]
  },
  {
   "cell_type": "code",
   "execution_count": 36,
   "metadata": {
    "scrolled": true
   },
   "outputs": [
    {
     "name": "stdout",
     "output_type": "stream",
     "text": [
      "ATX\n",
      "\n",
      "記事内の解法\n",
      "\n",
      "CAC\n",
      "ATX\n",
      "WIG\n",
      "ATX\n"
     ]
    }
   ],
   "source": [
    "# q78(q77)\n",
    "# 1番高いストック(株)は何か\n",
    "# 株名と株価が辞書型で与えられる。1番高いストック(株)を表示せよ。\n",
    "\n",
    "# 株名と株価の辞書\n",
    "stock_dict = {\n",
    "    \"CAC\": 10.0,\n",
    "    \"ATX\": 390.2,\n",
    "    \"WIG\": 1.2\n",
    "}\n",
    "\n",
    "def max_stock(dict_data):\n",
    "    return list(dict_data.keys())[list(dict_data.values()).index(max(dict_data.values()))]\n",
    "\n",
    "print(max_stock(stock_dict))\n",
    "\n",
    "## 記事内の解法\n",
    "print(\"\\n記事内の解法\\n\")\n",
    "\n",
    "def best_stock(data):\n",
    "    max = 0\n",
    "    code = \"\"\n",
    "    for stock in data:\n",
    "        print(stock)\n",
    "        if data[stock] > max:\n",
    "            max = data[stock]\n",
    "            code = stock\n",
    "    return code\n",
    "\n",
    "print(best_stock(stock_dict))"
   ]
  },
  {
   "cell_type": "code",
   "execution_count": 12,
   "metadata": {},
   "outputs": [
    {
     "data": {
      "text/plain": [
       "{'i': 4, 'near': 0, 'three': 0, 'was': 3}"
      ]
     },
     "execution_count": 12,
     "metadata": {},
     "output_type": "execute_result"
    }
   ],
   "source": [
    "# q79(q78)\n",
    "# 単語の出現頻度を表示せよ\n",
    "# 問題：文章と、いくつかの単語が与えられる。文章のうち、それぞれの単語が何回含まれているか表示せよ。\n",
    "# 例：popular_words('''When I was One I had just begun When I was Two I was nearly new''', ['i', 'was', 'three', 'near'])\n",
    "# == {'i': 4, 'near': 0, 'three': 0, 'was': 3}\n",
    "\n",
    "def popular_words(sentence, words):\n",
    "    words_in_sentence = sentence.lower().split()\n",
    "    count_list = []\n",
    "    for word in words:\n",
    "        count_list.append(words_in_sentence.count(word))\n",
    "    return dict(zip(words, count_list))\n",
    "\n",
    "popular_words('''When I was One I had just begun When I was Two I was nearly new''', ['i', 'was', 'three', 'near'])"
   ]
  },
  {
   "cell_type": "code",
   "execution_count": 19,
   "metadata": {
    "scrolled": true
   },
   "outputs": [
    {
     "name": "stdout",
     "output_type": "stream",
     "text": [
      "縦X\n",
      "\n",
      "縦O\n",
      "\n",
      "D\n",
      "\n",
      "記事内の解法\n",
      "\n"
     ]
    },
    {
     "data": {
      "text/plain": [
       "'X'"
      ]
     },
     "execution_count": 19,
     "metadata": {},
     "output_type": "execute_result"
    }
   ],
   "source": [
    "# q80(q79)\n",
    "# 三目並べの自動判定\n",
    "# 問題：下の例のように、\"O\"と\"X\"が並べられた三目並べの結果を自動で表示させる関数を作りなさい。\n",
    "# 勝った方を結果として表示し、引き分けの場合は\"D\"と表示させなさい。\n",
    "\n",
    "def checkio(board):\n",
    "    player = \"OX\"\n",
    "    for p in player:\n",
    "        for i in range(3):\n",
    "            if board[i][0] == p and board[i][1] == p and board[i][2] == p: # 横方向\n",
    "                print(\"横{}\".format(p))\n",
    "                return True\n",
    "            if board[0][i] == p and board[1][i] == p and board[2][i] == p: # 縦方向\n",
    "                print(\"縦{}\".format(p))\n",
    "                return True\n",
    "        if board[0][0] == p and board[1][1] == p and board[2][2] == p: # 斜め方向1\n",
    "            print(\"斜め1{}\".format(p))\n",
    "            return True\n",
    "        if board[0][2] == p and board[1][1] == p and board[2][0] == p: # 斜め方向2\n",
    "            print(\"斜め2{}\".format(p))\n",
    "            return True\n",
    "    \n",
    "    print(\"D\")\n",
    "    return False\n",
    "\n",
    "# 例\n",
    "checkio([\n",
    "    \"X.O\",\n",
    "    \"XX.\",\n",
    "    \"XOO\"])\n",
    "print()\n",
    "checkio([\n",
    "    \"OO.\",\n",
    "    \"XOX\",\n",
    "    \"XOX\"])\n",
    "print()\n",
    "checkio([\n",
    "    \"OOX\",\n",
    "    \"XXO\",\n",
    "    \"OXX\"])\n",
    "\n",
    "## 記事内の解法\n",
    "print(\"\\n記事内の解法\\n\")\n",
    "\n",
    "def check_osxs(result):\n",
    "    judge = \"D\"\n",
    "    for i in range(3):\n",
    "        if result[i][0]  == result[i][1] == result[i][2] != \".\":\n",
    "            judge = result[i][0]\n",
    "        elif result[0][i] == result[1][i] == result[2][i] != \".\":\n",
    "            judge = result[0][i]\n",
    "    if result[0][0] == result[1][1] == result[2][2] != \".\":\n",
    "        judge = result[0][0]\n",
    "    elif result[0][2] == result[1][1] == result[2][0] != \".\":\n",
    "        judge = result[0][2]\n",
    "    return judge\n",
    "\n",
    "check_osxs([\n",
    "    \"X.O\",\n",
    "    \"XX.\",\n",
    "    \"XOO\"])"
   ]
  },
  {
   "cell_type": "code",
   "execution_count": 35,
   "metadata": {},
   "outputs": [
    {
     "name": "stdout",
     "output_type": "stream",
     "text": [
      "自分の解法\n",
      "\n",
      "6\n",
      "1\n",
      "\n",
      "記事内の解法\n",
      "\n",
      "['f4', 'd4']\n",
      "\n",
      "CheckiOで解いたときの解法\n",
      "\n"
     ]
    }
   ],
   "source": [
    "# q81(q80)\n",
    "# 守られるチェスのコマ(ポーン)の個数を計算\n",
    "# 問題：チェスのポーンが置かれているマスがいくつか与えられる。そのうち、守られているポーンの個数を答えよ。\n",
    "\n",
    "## 自分の解法\n",
    "print(\"自分の解法\\n\")\n",
    "\n",
    "def get_key_from_value(dic, value):\n",
    "    return [k for k, v in dic.items() if v == value][0]\n",
    "\n",
    "def safe_pawns(pawns):\n",
    "    pawns = list(pawns)\n",
    "    columns = {\"a\": 1, \"b\": 2, \"c\": 3, \"d\": 4, \"e\": 5, \"f\": 6, \"g\": 7, \"h\": 8}\n",
    "    safe = 0 # 安全なマスのカウンタ\n",
    "    for i in pawns:\n",
    "        i_row = int(i[1]) # 1~8\n",
    "        i_col = columns[i[0]] # a~hを数値化したもの\n",
    "        # i_colの左右のマスのインデックスに対応するアルファベットを、辞書から逆算して取得\n",
    "        i_col_left = get_key_from_value(columns, i_col - 1) \n",
    "        i_col_right = get_key_from_value(columns, i_col + 1)\n",
    "        safe += (i_col_left + str(i_row - 1)) in pawns  or (i_col_right + str(i_row - 1) in pawns)\n",
    "    return safe\n",
    "    \n",
    "print(safe_pawns({\"b4\", \"d4\", \"f4\", \"c3\", \"e3\", \"g5\", \"d2\"})) # 6\n",
    "print(safe_pawns({\"b4\", \"c4\", \"d4\", \"e4\", \"f4\", \"g4\", \"e5\"})) # 1\n",
    "\n",
    "## 記事内の解法\n",
    "print(\"\\n記事内の解法\\n\")\n",
    "\n",
    "def safe_pawns2(pawns):\n",
    "    pwans = list(pawns)\n",
    "    cols = {\"a\":0,\"b\":1,\"c\":2,\"d\":3,\"e\":4,\"f\":5,\"g\":6,\"h\":7}\n",
    "    s_pawns = []\n",
    "    for i in pawns:\n",
    "        target = []\n",
    "        for j in pawns:\n",
    "            if int(i[1])+1 == int(j[1]):\n",
    "                target.append(j)\n",
    "        for k in target:\n",
    "            if abs(cols.get(k[0]) - cols.get(i[0])) == 1:\n",
    "                s_pawns.append(k)\n",
    "                if s_pawns.count(k) > 1:\n",
    "                    s_pawns.pop()\n",
    "    print(s_pawns)\n",
    "    return len(s_pawns)\n",
    "\n",
    "aws = {\"b4\",\"c4\",\"d4\",\"e4\",\"f4\",\"g4\",\"e3\"}\n",
    "safe_pawns2(aws)\n",
    "\n",
    "## CheckiOで解いたときの解法\n",
    "print(\"\\nCheckiOで解いたときの解法\\n\")\n",
    "\n",
    "def count_safe(row, col, pawns_indexes):\n",
    "    result = 0\n",
    "    for row, col in pawns_indexes:\n",
    "        is_safe = ((row - 1, col - 1) in pawns_indexes) or ((row - 1, col + 1) in pawns_indexes)\n",
    "        if is_safe:\n",
    "            result += 1\n",
    "    return result\n",
    "\n",
    "def safe_pawns3(pawns):\n",
    "    pawns_indexes = set() # generate a data type expessing a set\n",
    "    for p in pawns:\n",
    "        row = int(p[1]) - 1\n",
    "        col = ord(p[0]) - 97\n",
    "        pawns_indexes.add((row, col))\n",
    "    return count_safe(row, col, pawns_indexes)"
   ]
  },
  {
   "cell_type": "code",
   "execution_count": null,
   "metadata": {
    "collapsed": true
   },
   "outputs": [],
   "source": []
  }
 ],
 "metadata": {
  "kernelspec": {
   "display_name": "Python 3",
   "language": "python",
   "name": "python3"
  },
  "language_info": {
   "codemirror_mode": {
    "name": "ipython",
    "version": 3
   },
   "file_extension": ".py",
   "mimetype": "text/x-python",
   "name": "python",
   "nbconvert_exporter": "python",
   "pygments_lexer": "ipython3",
   "version": "3.6.3"
  }
 },
 "nbformat": 4,
 "nbformat_minor": 2
}
