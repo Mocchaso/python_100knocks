{
 "cells": [
  {
   "cell_type": "code",
   "execution_count": 5,
   "metadata": {},
   "outputs": [
    {
     "name": "stdout",
     "output_type": "stream",
     "text": [
      "自分の解法\n",
      "\n",
      "2 + 7 = 9\n",
      "7 + 2 = 9\n",
      "1 + 8 = 9\n",
      "8 + 1 = 9\n",
      "0\n",
      "\n",
      "記事内の解法\n",
      "\n",
      "(2, 7)\n"
     ]
    }
   ],
   "source": [
    "# q82(q81)\n",
    "# TwoSums\n",
    "# 問題：整数配列とターゲットが渡された時、整数配列の内足したら答えがターゲットになる2つの数字を返しなさい。\n",
    "# 例：twosums([2, 7, 11, 15], 9) ==> 2, 7\n",
    "\n",
    "## 自分の解法\n",
    "print(\"自分の解法\\n\")\n",
    "\n",
    "def twosums(int_list, target):\n",
    "    # int_listから、targetより小さい値の要素のみのリストを新しく作る\n",
    "    # ※targetより大きい値は使われることがないから\n",
    "    reduced_int_list = [num for num in int_list if num <= target]\n",
    "    for i in reduced_int_list:\n",
    "        for j in reduced_int_list:\n",
    "            if i + j == target:\n",
    "                print(\"{} + {} = {}\".format(i, j, target))\n",
    "    return 0\n",
    "\n",
    "print(twosums([2, 7, 11, 15], 9))\n",
    "\n",
    "## 記事内の解法\n",
    "print(\"\\n記事内の解法\\n\")\n",
    "\n",
    "from itertools import combinations\n",
    "\n",
    "def twosums2(x, target):\n",
    "    for item in combinations(x, 2):\n",
    "            if sum(item) == target:\n",
    "                return item\n",
    "\n",
    "nums = [2, 7, 11, 15]\n",
    "target = 9\n",
    "print(twosums2(nums, target))"
   ]
  },
  {
   "cell_type": "code",
   "execution_count": 15,
   "metadata": {},
   "outputs": [
    {
     "name": "stdout",
     "output_type": "stream",
     "text": [
      "自分の解法\n",
      "\n",
      "987654321\n",
      "\n",
      "記事内の解法\n",
      "\n",
      "9646324351\n"
     ]
    }
   ],
   "source": [
    "# q83(q82)\n",
    "# Reverse Integer\n",
    "# 問題：渡される整数を逆にして返せ\n",
    "\n",
    "## 自分の解法\n",
    "print(\"自分の解法\\n\")\n",
    "\n",
    "def reverse_integer(n):\n",
    "    str_n = str(n)\n",
    "    result = \"\"\n",
    "    for i in range(len(str_n)-1, 0-1, -1):\n",
    "        result += str_n[i]\n",
    "    return result\n",
    "print(reverse_integer(123456789))  \n",
    "\n",
    "## 記事内の解法\n",
    "print(\"\\n記事内の解法\\n\")\n",
    "\n",
    "def reverse_integer2(x):\n",
    "    return int(str(x)[::-1])\n",
    "\n",
    "print(reverse_integer2(1534236469))"
   ]
  },
  {
   "cell_type": "code",
   "execution_count": 25,
   "metadata": {},
   "outputs": [
    {
     "name": "stdout",
     "output_type": "stream",
     "text": [
      "自分の解法\n",
      "\n",
      "11\n",
      "2008\n",
      "4\n",
      "\n",
      "記事内の解法\n",
      "\n",
      "11\n",
      "2008\n",
      "4\n"
     ]
    }
   ],
   "source": [
    "# q84(q83)\n",
    "# Roman to Int（ローマ字から整数へ）\n",
    "# 問題：(0～4999)までのローマ字を数字に変換せよ。ちなみにローマ数字と整数は以下。\n",
    "# let romanValues = [“M”, “CM”, “D”, “CD”, “C”, “XC”, “L”, “XL”, “X”, “IX”, “V”, “IV”, “I”]\n",
    "# let arabicValues = [1000, 900, 500, 400, 100, 90, 50, 40, 10, 9, 5, 4, 1]\n",
    "\n",
    "# I II III IV V VI VII VIII IX X XI XII XIII XIV XV\n",
    "\n",
    "## 自分の解法\n",
    "print(\"自分の解法\\n\")\n",
    "\n",
    "# 修正前\n",
    "def roman_to_int(roman):\n",
    "    roman_dict = {\"M\": 1000, \"CM\": 900, \"D\": 500, \"CD\": 400, \"C\": 100, \"XC\": 90, \"L\": 50, \"XL\": 40, \"X\": 10, \"IX\": 9, \"V\": 5, \"IV\": 4, \"I\": 1}\n",
    "    nums = [roman_dict[r] for r in roman]\n",
    "    return sum(nums)\n",
    "\n",
    "# 修正後\n",
    "def roman_to_int(roman):\n",
    "    roman_dict = {\"M\": 1000, \"CM\": 900, \"D\": 500, \"CD\": 400, \"C\": 100, \"XC\": 90, \"L\": 50, \"XL\": 40, \"X\": 10, \"IX\": 9, \"V\": 5, \"IV\": 4, \"I\": 1}\n",
    "    nums = [roman_dict[r] for r in roman]\n",
    "    total = 0\n",
    "    for num1, num2 in zip(nums, nums[1:]):\n",
    "        if num1 >= num2:\n",
    "            total += num1\n",
    "        else:\n",
    "            total -= num1\n",
    "    return total + num2\n",
    "\n",
    "print(roman_to_int(\"XI\"))\n",
    "print(roman_to_int(\"MMVIII\"))\n",
    "print(roman_to_int(\"IV\"))\n",
    "\n",
    "## 記事内の解法\n",
    "print(\"\\n記事内の解法\\n\")\n",
    "\n",
    "def roman_to_int2(roman):\n",
    "    values={'M': 1000, 'D': 500, 'C': 100, 'L': 50, \n",
    "                                'X': 10, 'V': 5, 'I': 1}\n",
    "    \"\"\"Convert from Roman numerals to an integer.\"\"\"\n",
    "    numbers = []\n",
    "    for char in roman:\n",
    "        numbers.append(values[char]) \n",
    "    total = 0\n",
    "    for num1, num2 in zip(numbers, numbers[1:]):\n",
    "        if num1 >= num2:\n",
    "            total += num1\n",
    "        else:\n",
    "            total -= num1\n",
    "    return total + num2\n",
    "\n",
    "print(roman_to_int2(\"XI\"))\n",
    "print(roman_to_int2(\"MMVIII\"))\n",
    "print(roman_to_int2(\"IV\"))"
   ]
  },
  {
   "cell_type": "code",
   "execution_count": 24,
   "metadata": {},
   "outputs": [
    {
     "name": "stdout",
     "output_type": "stream",
     "text": [
      "自分の解法\n",
      "\n",
      "True\n",
      "False\n",
      "True\n",
      "False\n",
      "False\n",
      "True\n",
      "\n",
      "記事内の解法\n",
      "\n"
     ]
    },
    {
     "data": {
      "text/plain": [
       "(True, False, True, False, False, True)"
      ]
     },
     "execution_count": 24,
     "metadata": {},
     "output_type": "execute_result"
    }
   ],
   "source": [
    "# q85(q84)\n",
    "# Valid Parentheses\n",
    "# 問題：(), {}, []など、括弧が有効であるかチェックをしてBoolを返しなさい。\n",
    "\n",
    "## 自分の解法\n",
    "print(\"自分の解法\\n\")\n",
    "\n",
    "# 修正前\n",
    "def check_parentheses(data):\n",
    "    stack = []\n",
    "    check_table = {\"(\": \")\", \"{\": \"}\", \"[\": \"]\"}\n",
    "    for i in range(len(data)):\n",
    "        if data[i] == \"(\" or data[i] == \"{\" or data[i] == \"[\":\n",
    "            stack.append((i, data[i])) # 括弧のある位置とその種類を格納\n",
    "        elif data[i] == \")\" or data[i] == \"}\" or data[i] == \"]\":\n",
    "            popped_element = stack.pop()\n",
    "            if check_table[popped_element[1]] != data[i]: # 括弧が対応しているが種類が異なる場合はFalse\n",
    "                return False\n",
    "    if len(stack) != 0: # stackに括弧が残っていたら、括弧は対応していない\n",
    "        return False\n",
    "    else:\n",
    "        return True\n",
    "\n",
    "print(check_parentheses(\"[aaa]\")) # True\n",
    "print(check_parentheses(\"(\")) # False\n",
    "print(check_parentheses(\"()[]{}\")) # True\n",
    "print(check_parentheses(\"(]\")) # False\n",
    "print(check_parentheses(\"([)]\")) # False\n",
    "print(check_parentheses(\"{()}\")) # True\n",
    "\n",
    "## 記事内の解法\n",
    "print(\"\\n記事内の解法\\n\")\n",
    "\n",
    "def isvalid(x):\n",
    "    table = {'(': ')', '{': '}', '[': ']'}\n",
    "    stack = []\n",
    "    for elm in x:\n",
    "        if elm in table.keys():\n",
    "            stack.append(table[elm])\n",
    "        elif elm in table.values() and elm != stack.pop():\n",
    "                return False\n",
    "    return False if len(stack) else True\n",
    "\n",
    "isvalid('[aaa]'), isvalid('('), isvalid('()[]{}'), isvalid('(]'), isvalid('([)]'), isvalid('{()}')"
   ]
  },
  {
   "cell_type": "code",
   "execution_count": 37,
   "metadata": {},
   "outputs": [
    {
     "name": "stdout",
     "output_type": "stream",
     "text": [
      "自分の解法\n",
      "\n",
      "タクシー\n",
      "\n",
      "記事内の解法\n",
      "\n",
      "パトカー\n"
     ]
    }
   ],
   "source": [
    "# q86(q85)\n",
    "# 「パタトクカシーー」という文字列の1, 3, 5, 7文字目を取り出して連結した文字列を得よ\n",
    "\n",
    "## 自分の解法\n",
    "print(\"自分の解法\\n\")\n",
    "\n",
    "p = \"パタトクカシーー\"\n",
    "print(p[1] + p[3] + p[5] + p[7])\n",
    "\n",
    "## 記事内の解法\n",
    "print(\"\\n記事内の解法\\n\")\n",
    "\n",
    "stre = 'パタトクカシーー'\n",
    "print(stre[0::2]) # str[::2]でも同様\n",
    "# stre[1::2]が正解..."
   ]
  },
  {
   "cell_type": "code",
   "execution_count": 38,
   "metadata": {},
   "outputs": [
    {
     "name": "stdout",
     "output_type": "stream",
     "text": [
      "自分の解法\n",
      "\n",
      "パタトクカシーー\n",
      "\n",
      "記事内の解法\n",
      "\n",
      "パタトクカシーー\n"
     ]
    }
   ],
   "source": [
    "# q87(q86)\n",
    "# 「パトカー」+「タクシー」の文字を先頭から交互に連結して文字列「パタトクカシーー」を得よ\n",
    "\n",
    "## 自分の解法\n",
    "print(\"自分の解法\\n\")\n",
    "\n",
    "a = \"パトカー\"\n",
    "b = \"タクシー\"\n",
    "result = \"\"\n",
    "\n",
    "for x, y in zip(a, b):\n",
    "    result += x + y\n",
    "print(result)\n",
    "\n",
    "## 記事内の解法\n",
    "print(\"\\n記事内の解法\\n\")\n",
    "\n",
    "str1 = 'パトカー'\n",
    "str2 = 'タクシー'\n",
    "\n",
    "print(''.join([a + b for a, b in zip(str1, str2)]))"
   ]
  },
  {
   "cell_type": "code",
   "execution_count": 47,
   "metadata": {},
   "outputs": [
    {
     "name": "stdout",
     "output_type": "stream",
     "text": [
      "自分の解法\n",
      "\n",
      "Hello everyone I like soft tennis\n",
      "[('Hello', 5), ('everyone', 8), ('I', 1), ('like', 4), ('soft', 4), ('tennis', 6)]\n",
      "\n",
      "記事内の解法\n",
      "\n",
      "[3, 1, 4, 1, 5, 9, 2, 6, 5, 3, 5, 8, 9, 7, 9]\n"
     ]
    }
   ],
   "source": [
    "# q88(q87)\n",
    "# 単語の文字数\n",
    "\n",
    "## 自分の解法\n",
    "print(\"自分の解法\\n\")\n",
    "\n",
    "sentence = \"Hello, everyone. I like soft tennis.\"\n",
    "sentence = sentence.replace(\",\", \"\")\n",
    "sentence = sentence.replace(\".\", \"\")\n",
    "word_lengths = [(word, len(word)) for word in sentence.split()]\n",
    "print(sentence)\n",
    "print(word_lengths)\n",
    "\n",
    "## 記事内の解法\n",
    "print(\"\\n記事内の解法\\n\")\n",
    "\n",
    "strr = \"Now I need a drink, alcoholic of course, after the heavy lectures involving quantum mechanics.\"\n",
    "strr = strr.replace('.', \"\")\n",
    "strr = strr.replace(',', \"\")\n",
    "strr = strr.split()\n",
    "\n",
    "a_list = []\n",
    "\n",
    "for word in strr:\n",
    "    a_list.append(len(word))\n",
    "\n",
    "print(a_list)"
   ]
  },
  {
   "cell_type": "code",
   "execution_count": 84,
   "metadata": {},
   "outputs": [
    {
     "name": "stdout",
     "output_type": "stream",
     "text": [
      "自分の解法\n",
      "\n",
      "Hleol, enveeryo. I like soft tiesnn.\n",
      "\n",
      "記事内の解法\n",
      "\n",
      "I culd'ont beilvee that I cloud altaulcy untndreasd waht I was rdeniag : the penheaomnl pweor of the human mind .\n"
     ]
    }
   ],
   "source": [
    "# q89(q88)\n",
    "# 問題：スペースで区切られた単語列に対して、各単語の先頭と末尾の文字は残し、\n",
    "# それ以外の文字の順序をランダムに並び替えるプログラムを作成せよ。\n",
    "# 条件：長さが4以下の単語は並び替えない。\n",
    "# 例：\n",
    "# \"I couldn't believe that I could actually understand what I was reading : the phenomenal power of the human mind .\"\n",
    "\n",
    "## 自分の解法\n",
    "print(\"自分の解法\\n\")\n",
    "\n",
    "import random\n",
    "\n",
    "def shuffle_sentence(text):\n",
    "    words_in_text = text.split()\n",
    "    shuffled_list = []\n",
    "    for word in words_in_text:\n",
    "        if len(word) > 4:\n",
    "            word_to_list = list(word)\n",
    "            sliced_list = word_to_list[1:len(word)-1]\n",
    "            random.shuffle(sliced_list) # 先頭と末尾の文字以外の順序をランダムに並び替える\n",
    "            word = word_to_list[0] + \"\".join(sliced_list) + word_to_list[-1]\n",
    "        shuffled_list.append(word)\n",
    "    return \" \".join(shuffled_list)\n",
    "\n",
    "input_sentence = \"Hello, everyone. I like soft tennis.\"\n",
    "print(shuffle_sentence(input_sentence))\n",
    "\n",
    "## 記事内の解法\n",
    "print(\"\\n記事内の解法\\n\")\n",
    "\n",
    "import random\n",
    "\n",
    "text = \"I couldn't believe that I could actually understand what I was reading : the phenomenal power of the human mind .\"\n",
    "words = text.split()\n",
    "shuffled_list = []\n",
    "\n",
    "for word in words:\n",
    "    if len(word) < 4:\n",
    "        pass\n",
    "    else:\n",
    "        char_list = list(word)\n",
    "        mid_list = char_list[1:-1]\n",
    "        random.shuffle(mid_list)\n",
    "        word = word[0] + \"\".join(mid_list) + word[-1]\n",
    "    shuffled_list.append(word)\n",
    "\n",
    "shuffled_str = \" \".join(shuffled_list)\n",
    "print(shuffled_str)"
   ]
  },
  {
   "cell_type": "code",
   "execution_count": null,
   "metadata": {
    "collapsed": true
   },
   "outputs": [],
   "source": []
  }
 ],
 "metadata": {
  "kernelspec": {
   "display_name": "Python 3",
   "language": "python",
   "name": "python3"
  },
  "language_info": {
   "codemirror_mode": {
    "name": "ipython",
    "version": 3
   },
   "file_extension": ".py",
   "mimetype": "text/x-python",
   "name": "python",
   "nbconvert_exporter": "python",
   "pygments_lexer": "ipython3",
   "version": "3.6.3"
  }
 },
 "nbformat": 4,
 "nbformat_minor": 2
}
