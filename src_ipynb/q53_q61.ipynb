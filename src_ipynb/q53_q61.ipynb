{
 "cells": [
  {
   "cell_type": "code",
   "execution_count": 1,
   "metadata": {},
   "outputs": [
    {
     "name": "stdout",
     "output_type": "stream",
     "text": [
      "b'GIF89a\\x01\\x00\\x01\\x00\\x80\\x00\\x00\\x00\\x00\\x00\\xff\\xff\\xff!\\xf9\\x04\\x01\\x00\\x00\\x00\\x00,\\x00\\x00\\x00\\x00\\x01\\x00\\x01\\x00\\x00\\x02\\x01D\\x00;'\n"
     ]
    }
   ],
   "source": [
    "# q53\n",
    "# 以下の16進文字列が有名なGIFファイルであるか確認せよ。\n",
    "# 問題： 以下の16進文字列をbytes変数に変換し、その先頭が、”GIF89a”（有名なGIFファイル）という文字列になっているか確認せよ。\n",
    "\n",
    "#16進文字列\n",
    "hex_str = '47494638396101000100800000000000ffffff21f90401000000002c000000000100010000020144003b'\n",
    "\n",
    "import binascii\n",
    "gif = binascii.unhexlify(hex_str)\n",
    "print(gif)\n",
    "\n",
    "# 記事では、print(gif[:6] == b'GIF89a')\n",
    "# Unicode文字列ではなく、バイト列を定義するためにbを使わなければならないことに注意\n",
    "# バイト列をバイト列を比較することはできるが、バイト列と文字列を比較することはできない。"
   ]
  },
  {
   "cell_type": "code",
   "execution_count": 2,
   "metadata": {
    "collapsed": true
   },
   "outputs": [],
   "source": [
    "# q54\n",
    "# test.txtというファイルにtest１の内容を書き込みなさい\n",
    "\n",
    "# 書き込む内容\n",
    "test1 = \"This is a test of the emergency text system\"\n",
    "\n",
    "with open(\"test.txt\", \"w\") as file:\n",
    "    file.write(test1)\n",
    "\n",
    "# withを使わない場合\n",
    "outfile = open(\"test.txt\", \"wt\")\n",
    "outfile.write(test1)\n",
    "outfile.close()"
   ]
  },
  {
   "cell_type": "code",
   "execution_count": 3,
   "metadata": {},
   "outputs": [
    {
     "name": "stdout",
     "output_type": "stream",
     "text": [
      "True\n"
     ]
    }
   ],
   "source": [
    "# q55\n",
    "# test.txtをtest2変数に読み出し、test1とtest2が同じになっているか確認せよ\n",
    "# 条件：withを使うこと\n",
    "\n",
    "test2 = \"\"\n",
    "with open(\"test.txt\") as file:\n",
    "    test2 = file.read()\n",
    "\n",
    "print(test2 == test1)"
   ]
  },
  {
   "cell_type": "code",
   "execution_count": 4,
   "metadata": {},
   "outputs": [
    {
     "name": "stdout",
     "output_type": "stream",
     "text": [
      "[OrderedDict([('author', 'J R R Tolkien'), (' book', ' The Hobbit ')]), OrderedDict([('author', 'Lynne Truss'), (' book', ' \"Eats'), (None, [' Shoots & Leaves\" '])])]\n",
      "記事内の解法\n",
      "OrderedDict([('author', 'J R R Tolkien'), (' book', ' The Hobbit ')])\n",
      "OrderedDict([('author', 'Lynne Truss'), (' book', ' \"Eats'), (None, [' Shoots & Leaves\" '])])\n"
     ]
    }
   ],
   "source": [
    "# q56\n",
    "# 次のテキストをbooks.csvというファイルに保存した後、その内容を変数booksに読み込み、booksの内容を表示しよう。\n",
    "# 条件：csvモジュールとそのDictReaderメソッドを使うこと\n",
    "\n",
    "# テキスト\n",
    "text = '''author, book\n",
    "J R R Tolkien, The Hobbit \n",
    "Lynne Truss, \"Eats, Shoots & Leaves\" '''\n",
    "\n",
    "with open(\"books.csv\", \"w\") as file:\n",
    "    file.write(text)\n",
    "\n",
    "books = []\n",
    "import csv\n",
    "with open(\"books.csv\") as file:\n",
    "    reader = csv.DictReader(file)\n",
    "    for row in reader:\n",
    "        books.append(row)\n",
    "print(books)\n",
    "\n",
    "# 記事内の解法\n",
    "print(\"記事内の解法\")\n",
    "\n",
    "with open(\"books.csv\", \"rt\") as infile:\n",
    "    books = csv.DictReader(infile)\n",
    "    for book in books:\n",
    "        print(book)"
   ]
  },
  {
   "cell_type": "code",
   "execution_count": 5,
   "metadata": {},
   "outputs": [
    {
     "name": "stdout",
     "output_type": "stream",
     "text": [
      "test.txtの1行目 = This is a test of the emergency text system\n",
      "記事内の解法\n",
      "\n"
     ]
    }
   ],
   "source": [
    "# q57\n",
    "# テクストファイルの中から、行番号で指定した行を読みたい\n",
    "\n",
    "file_dict = {}\n",
    "with open(\"test.txt\") as file:\n",
    "    for i, line in enumerate(file):\n",
    "        file_dict[i+1] = line\n",
    "\n",
    "row_i = 1\n",
    "print(\"test.txtの{}行目 = {}\".format(row_i, file_dict[row_i]))\n",
    "\n",
    "# 記事内の解法\n",
    "print(\"記事内の解法\")\n",
    "\n",
    "import linecache\n",
    "theline = linecache.getline(\"text.txt\", 3)\n",
    "print(theline)"
   ]
  },
  {
   "cell_type": "code",
   "execution_count": 6,
   "metadata": {},
   "outputs": [
    {
     "name": "stdout",
     "output_type": "stream",
     "text": [
      "1\n",
      "記事内の解法\n",
      "1\n"
     ]
    },
    {
     "name": "stderr",
     "output_type": "stream",
     "text": [
      "C:\\Users\\admin\\Anaconda3\\lib\\site-packages\\ipykernel_launcher.py:13: DeprecationWarning: 'U' mode is deprecated\n",
      "  del sys.path[0]\n"
     ]
    }
   ],
   "source": [
    "# q58\n",
    "# ファイルの行数を計算したい\n",
    "\n",
    "count = 0\n",
    "with open(\"test.txt\") as file:\n",
    "    for line in file:\n",
    "        count += 1\n",
    "print(count)\n",
    "\n",
    "# 記事内の解法\n",
    "print(\"記事内の解法\")\n",
    "\n",
    "count = len(open(\"test.txt\", \"rU\").readlines())\n",
    "print(count)"
   ]
  },
  {
   "cell_type": "code",
   "execution_count": 7,
   "metadata": {},
   "outputs": [
    {
     "name": "stdout",
     "output_type": "stream",
     "text": [
      "記事内の解法\n"
     ]
    },
    {
     "ename": "OperationalError",
     "evalue": "table book already exists",
     "output_type": "error",
     "traceback": [
      "\u001b[1;31m---------------------------------------------------------------------------\u001b[0m",
      "\u001b[1;31mOperationalError\u001b[0m                          Traceback (most recent call last)",
      "\u001b[1;32m<ipython-input-7-7f01d805229f>\u001b[0m in \u001b[0;36m<module>\u001b[1;34m()\u001b[0m\n\u001b[0;32m     16\u001b[0m \u001b[0mcurs\u001b[0m \u001b[1;33m=\u001b[0m \u001b[0mdb\u001b[0m\u001b[1;33m.\u001b[0m\u001b[0mcursor\u001b[0m\u001b[1;33m(\u001b[0m\u001b[1;33m)\u001b[0m\u001b[1;33m\u001b[0m\u001b[0m\n\u001b[0;32m     17\u001b[0m \u001b[1;31m# データベースに対してSQLコマンドを実行する\u001b[0m\u001b[1;33m\u001b[0m\u001b[1;33m\u001b[0m\u001b[0m\n\u001b[1;32m---> 18\u001b[1;33m \u001b[0mcurs\u001b[0m\u001b[1;33m.\u001b[0m\u001b[0mexecute\u001b[0m\u001b[1;33m(\u001b[0m\u001b[1;34m'''create table book (title text, author text, year int)'''\u001b[0m\u001b[1;33m)\u001b[0m\u001b[1;33m\u001b[0m\u001b[0m\n\u001b[0m\u001b[0;32m     19\u001b[0m \u001b[1;33m\u001b[0m\u001b[0m\n\u001b[0;32m     20\u001b[0m \u001b[0mdb\u001b[0m\u001b[1;33m.\u001b[0m\u001b[0mcommit\u001b[0m\u001b[1;33m(\u001b[0m\u001b[1;33m)\u001b[0m\u001b[1;33m\u001b[0m\u001b[0m\n",
      "\u001b[1;31mOperationalError\u001b[0m: table book already exists"
     ]
    }
   ],
   "source": [
    "# q59\n",
    "# many_books.dbというSQLiteデータベースを作り、その中に\n",
    "# title(文字列)、\"author\"(文字列)、\"year\"(整数)という\n",
    "# フィールドをもつbookというテーブルを作れ\n",
    "# 条件：sqlite3モジュールを使うこと\n",
    "\n",
    "# 記事内の解法\n",
    "print(\"記事内の解法\")\n",
    "\n",
    "# データベースの作成\n",
    "import sqlite3\n",
    "\n",
    "# connect()：データベースへの接続を開設する（ユーザー名、パスワード、サーバーアドレス、その他引数が指定可能）\n",
    "db = sqlite3.connect(\"books.db\")\n",
    "# クエリーを管理するカーソルオブジェクトを作る\n",
    "curs = db.cursor()\n",
    "# データベースに対してSQLコマンドを実行する\n",
    "curs.execute('''create table book (title text, author text, year int)''')\n",
    "\n",
    "db.commit()"
   ]
  },
  {
   "cell_type": "code",
   "execution_count": 8,
   "metadata": {},
   "outputs": [
    {
     "name": "stdout",
     "output_type": "stream",
     "text": [
      "記事内の解法\n"
     ]
    }
   ],
   "source": [
    "# q60\n",
    "# 次のテキストをmany_books.csvというファイルに保存し、そのデータをbookテーブルに挿入せよ。\n",
    "\n",
    "# 記事内の解法\n",
    "# csvファイルの作成で文字コードのエラーが出るのを修正した\n",
    "print(\"記事内の解法\")\n",
    "\n",
    "# テキスト\n",
    "text = '''title,author,year\n",
    "The Weirdstone of Brisingamen, Alan Garner, 1960\n",
    "Perdido Street Station, ChinaMiéville,2000 \n",
    "Thud!, Terry Pratchett,2005 \n",
    "The Spellman Files, Lisa Lutz,2007 \n",
    "Small Gods, Terry Pratchett, 1992\n",
    "'''\n",
    "\n",
    "# csvファイルの作成\n",
    "# encodingの引数にUTF-8を指定することで解決した\n",
    "with open(\"many_books.csv\", \"wt\", encoding=\"utf-8\") as outfile:\n",
    "    outfile.write(text)\n",
    "\n",
    "# 読み取り、挿入\n",
    "import csv\n",
    "import sqlite3\n",
    "\n",
    "ins_str = \"insert into book values(?, ?, ?)\"\n",
    "\n",
    "with open(\"many_books.csv\", \"rt\") as infile:\n",
    "    books = csv.DictReader(infile)\n",
    "    for book in books:\n",
    "        curs.execute(ins_str, (book[\"title\"], book[\"author\"], book[\"year\"]))\n",
    "\n",
    "db.commit()"
   ]
  },
  {
   "cell_type": "code",
   "execution_count": 9,
   "metadata": {},
   "outputs": [
    {
     "name": "stdout",
     "output_type": "stream",
     "text": [
      "記事内の解法\n",
      "('Perdido Street Station',)\n",
      "('Perdido Street Station',)\n",
      "('Perdido Street Station',)\n",
      "('Perdido Street Station',)\n",
      "('Perdido Street Station',)\n",
      "('Small Gods',)\n",
      "('Small Gods',)\n",
      "('Small Gods',)\n",
      "('Small Gods',)\n",
      "('Small Gods',)\n",
      "('The Spellman Files',)\n",
      "('The Spellman Files',)\n",
      "('The Spellman Files',)\n",
      "('The Spellman Files',)\n",
      "('The Spellman Files',)\n",
      "('The Weirdstone of Brisingamen',)\n",
      "('The Weirdstone of Brisingamen',)\n",
      "('The Weirdstone of Brisingamen',)\n",
      "('The Weirdstone of Brisingamen',)\n",
      "('The Weirdstone of Brisingamen',)\n",
      "('Thud!',)\n",
      "('Thud!',)\n",
      "('Thud!',)\n",
      "('Thud!',)\n",
      "('Thud!',)\n"
     ]
    }
   ],
   "source": [
    "# q61\n",
    "# bookテーブルのtitle列を選択し、アルファベット順に表示せよ。\n",
    "\n",
    "# 記事内の解法\n",
    "print(\"記事内の解法\")\n",
    "\n",
    "sql = \"select title from book order by title asc\"\n",
    "for row in db.execute(sql):\n",
    "    print(row)"
   ]
  },
  {
   "cell_type": "code",
   "execution_count": null,
   "metadata": {
    "collapsed": true
   },
   "outputs": [],
   "source": []
  }
 ],
 "metadata": {
  "kernelspec": {
   "display_name": "Python 3",
   "language": "python",
   "name": "python3"
  },
  "language_info": {
   "codemirror_mode": {
    "name": "ipython",
    "version": 3
   },
   "file_extension": ".py",
   "mimetype": "text/x-python",
   "name": "python",
   "nbconvert_exporter": "python",
   "pygments_lexer": "ipython3",
   "version": "3.6.3"
  }
 },
 "nbformat": 4,
 "nbformat_minor": 2
}
