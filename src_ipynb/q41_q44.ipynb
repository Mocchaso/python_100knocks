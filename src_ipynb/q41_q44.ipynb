{
 "cells": [
  {
   "cell_type": "code",
   "execution_count": 1,
   "metadata": {
    "collapsed": true
   },
   "outputs": [],
   "source": [
    "# q41\n",
    "# Laser、Claw、Gunクラスを定義せよ。\n",
    "# 条件：\n",
    "# 3つのクラスは唯一のメソッドとしてdoes（）を持っている。\n",
    "# does（）は、\"disintegrate\" （Laser）、 \"crush\"（Claw) \"shoot\" （Gun）を返す。\n",
    "# 次に、これらのインスタンス（オブジェクト）をひとつずつ持つRobotクラスを定義する。\n",
    "\n",
    "class Laser:\n",
    "    def does(self):\n",
    "        return \"disintegrate\"\n",
    "\n",
    "class Claw:\n",
    "    def does(self):\n",
    "        return \"crush\"\n",
    "\n",
    "class Gun:\n",
    "    def does(self):\n",
    "        return \"shoot\"\n",
    "\n",
    "class Robot:\n",
    "    def __init__(self):\n",
    "        self.l = Laser()\n",
    "        self.c = Claw()\n",
    "        self.g = Gun()\n",
    "\n",
    "r = Robot()"
   ]
  },
  {
   "cell_type": "code",
   "execution_count": 2,
   "metadata": {},
   "outputs": [
    {
     "name": "stdout",
     "output_type": "stream",
     "text": [
      "💤\n",
      "SLEEPING SYMBOL\n"
     ]
    }
   ],
   "source": [
    "# q42\n",
    "# secretというUnicode文字列を作り、\"\\U0001f4a9\"という値を代入して、表示せよ\n",
    "# また、secretのUnicode名を調べよう\n",
    "\n",
    "secret = \"\\U0001f4a4\"\n",
    "print(secret)\n",
    "\n",
    "import unicodedata\n",
    "print(unicodedata.name(secret))"
   ]
  },
  {
   "cell_type": "code",
   "execution_count": 3,
   "metadata": {},
   "outputs": [
    {
     "name": "stdout",
     "output_type": "stream",
     "text": [
      "b'\\xf0\\x9f\\x92\\xa4'\n"
     ]
    }
   ],
   "source": [
    "# q43\n",
    "# UTF-8を使い（）、secretをpop_bytesというbytes変数にエンコードせよ。\n",
    "\n",
    "pop_bytes = secret.encode(\"utf-8\")\n",
    "print(pop_bytes)"
   ]
  },
  {
   "cell_type": "code",
   "execution_count": 4,
   "metadata": {},
   "outputs": [
    {
     "name": "stdout",
     "output_type": "stream",
     "text": [
      "💤\n"
     ]
    }
   ],
   "source": [
    "# q44\n",
    "# UTF-8を使って、pop_bytesをデコードし、pop_stringを表示せよ。\n",
    "\n",
    "pop_string = pop_bytes.decode(\"utf-8\")\n",
    "print(pop_string)"
   ]
  },
  {
   "cell_type": "code",
   "execution_count": null,
   "metadata": {
    "collapsed": true
   },
   "outputs": [],
   "source": []
  }
 ],
 "metadata": {
  "kernelspec": {
   "display_name": "Python 3",
   "language": "python",
   "name": "python3"
  },
  "language_info": {
   "codemirror_mode": {
    "name": "ipython",
    "version": 3
   },
   "file_extension": ".py",
   "mimetype": "text/x-python",
   "name": "python",
   "nbconvert_exporter": "python",
   "pygments_lexer": "ipython3",
   "version": "3.6.3"
  }
 },
 "nbformat": 4,
 "nbformat_minor": 2
}
