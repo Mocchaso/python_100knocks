{
 "cells": [
  {
   "cell_type": "code",
   "execution_count": 1,
   "metadata": {
    "scrolled": false
   },
   "outputs": [
    {
     "name": "stdout",
     "output_type": "stream",
     "text": [
      "We have seen thee, queen of cheese,\n",
      "    Lying quietly at your ease,\n",
      "    Gently fanned by evening breeze,\n",
      "    Thy fair form no flies dare seize.\n",
      "\n",
      "    All gaily dressed soon you'll go\n",
      "    To the great Provincial show,\n",
      "    To be admired by many a beau\n",
      "    In the city of Toronto.\n",
      "\n",
      "    Cows numerous as a swarm of bees,\n",
      "    Or as the leaves upon the trees,\n",
      "    It did require to make thee please,\n",
      "    And stand unrivalled, queen of cheese.\n",
      "\n",
      "    May you not receive a scar as\n",
      "    We have heard that Mr. Harris\n",
      "    Intends to send you off as far as\n",
      "    The great world's show at Paris.\n",
      "\n",
      "    Of the youth beware of these,\n",
      "    For some of them might rudely squeeze\n",
      "    And bite your cheek, then songs or glees\n",
      "    We could not sing, oh! queen of cheese.\n",
      "\n",
      "    We'rt thou suspended from balloon,\n",
      "    You'd cast a shade even at noon,\n",
      "    Folks would think it was the moon\n",
      "    About to fall and crush them soon.\n"
     ]
    }
   ],
   "source": [
    "# 正規表現の活用\n",
    "# 以下の詩を基に各問いに答えよ\n",
    "poetry = \"\"\"We have seen thee, queen of cheese,\n",
    "    Lying quietly at your ease,\n",
    "    Gently fanned by evening breeze,\n",
    "    Thy fair form no flies dare seize.\n",
    "\n",
    "    All gaily dressed soon you'll go\n",
    "    To the great Provincial show,\n",
    "    To be admired by many a beau\n",
    "    In the city of Toronto.\n",
    "\n",
    "    Cows numerous as a swarm of bees,\n",
    "    Or as the leaves upon the trees,\n",
    "    It did require to make thee please,\n",
    "    And stand unrivalled, queen of cheese.\n",
    "\n",
    "    May you not receive a scar as\n",
    "    We have heard that Mr. Harris\n",
    "    Intends to send you off as far as\n",
    "    The great world's show at Paris.\n",
    "\n",
    "    Of the youth beware of these,\n",
    "    For some of them might rudely squeeze\n",
    "    And bite your cheek, then songs or glees\n",
    "    We could not sing, oh! queen of cheese.\n",
    "\n",
    "    We'rt thou suspended from balloon,\n",
    "    You'd cast a shade even at noon,\n",
    "    Folks would think it was the moon\n",
    "    About to fall and crush them soon.\"\"\"\n",
    "\n",
    "print(poetry)"
   ]
  },
  {
   "cell_type": "code",
   "execution_count": 2,
   "metadata": {},
   "outputs": [
    {
     "name": "stdout",
     "output_type": "stream",
     "text": [
      "['cheese', 'city', 'cheese', 'cheek', 'could', 'cheese', 'cast', 'crush']\n"
     ]
    }
   ],
   "source": [
    "# q49\n",
    "# cから始まる全ての単語を表示\n",
    "\n",
    "import re\n",
    "pattern1 = r\"\\bc\\w*\"\n",
    "result1 = re.findall(pattern1, poetry)\n",
    "print(result1)\n",
    "\n",
    "# \\bで単語同と日非単語の境界を先頭にするという意味である。単語の先頭か末尾を指定するために使う。\n",
    "# リテラルのcは探している単語の先頭文字.\n",
    "# \\wは任意の単語文字\n",
    "# *は、前の単語の文字が０個以上という意味\n",
    "# rは未処理の文字列。（これがないと\\bをバックスペースだと認識してしまうので、サーチは失敗する）\n",
    "\n",
    "# \\bだけ知らなかった"
   ]
  },
  {
   "cell_type": "code",
   "execution_count": 3,
   "metadata": {},
   "outputs": [
    {
     "name": "stdout",
     "output_type": "stream",
     "text": [
      "['city', 'cast']\n",
      "記事内の解法\n",
      "['chee', 'city', 'chee', 'chee', 'coul', 'chee', 'cast', 'crus']\n",
      "['city', 'cast']\n"
     ]
    }
   ],
   "source": [
    "# q50\n",
    "# cで始まる全ての4文字単語を表示\n",
    "\n",
    "pattern2 = r\"\\bc\\w*\"\n",
    "result2 = [i for i in re.findall(pattern2, poetry) if len(i) == 4]\n",
    "print(result2)\n",
    "\n",
    "# 記事内の解法\n",
    "\n",
    "print(\"記事内の解法\")\n",
    "par = r'\\bc\\w{3}'\n",
    "print(re.findall(par, poetry))\n",
    "par = r'\\bc\\w{3}\\b'\n",
    "print(re.findall(par, poetry))\n",
    "\n",
    "\n",
    "# パターンの末尾に\\bをつけると「単語」のみ取り出せる。つけないとcで始まる全ての単語の４文字が返されてしまう。"
   ]
  },
  {
   "cell_type": "code",
   "execution_count": 4,
   "metadata": {
    "scrolled": false
   },
   "outputs": [
    {
     "name": "stdout",
     "output_type": "stream",
     "text": [
      "['your', 'fair', 'Or', 'scar', 'Mr', 'far', 'For', 'your', 'or']\n"
     ]
    }
   ],
   "source": [
    "# q51\n",
    "# rで終わる全ての単語を見つけよう。\n",
    "\n",
    "pattern3 = r\"\\b\\w*r\\b\"\n",
    "result3 = re.findall(pattern3, poetry)\n",
    "print(result3)"
   ]
  },
  {
   "cell_type": "code",
   "execution_count": 5,
   "metadata": {},
   "outputs": [
    {
     "name": "stdout",
     "output_type": "stream",
     "text": [
      "['queen', 'quietly', 'beau', 'queen', 'squeeze', 'queen']\n",
      "記事内の解法\n",
      "['queen', 'quietly', 'queen', 'squeeze', 'queen']\n"
     ]
    }
   ],
   "source": [
    "# q52\n",
    "# 3個の連続した母音を含むすべての単語を見つけよう\n",
    "\n",
    "pattern4 = r\"\\b\\w*[aiueo]{3}\\w*\\b\"\n",
    "result4 = re.findall(pattern4, poetry)\n",
    "print(result4)\n",
    "\n",
    "# 記事内の解法\n",
    "\n",
    "print(\"記事内の解法\")\n",
    "pat_4 = r'\\b\\w*[aiueo]{3}[^aiueo\\s]\\w*\\b'\n",
    "print(re.findall(pat_4, poetry))\n",
    "\n",
    "# [^aiueo\\s]がある点が異なる"
   ]
  },
  {
   "cell_type": "code",
   "execution_count": null,
   "metadata": {
    "collapsed": true
   },
   "outputs": [],
   "source": []
  }
 ],
 "metadata": {
  "kernelspec": {
   "display_name": "Python 3",
   "language": "python",
   "name": "python3"
  },
  "language_info": {
   "codemirror_mode": {
    "name": "ipython",
    "version": 3
   },
   "file_extension": ".py",
   "mimetype": "text/x-python",
   "name": "python",
   "nbconvert_exporter": "python",
   "pygments_lexer": "ipython3",
   "version": "3.6.3"
  }
 },
 "nbformat": 4,
 "nbformat_minor": 2
}
