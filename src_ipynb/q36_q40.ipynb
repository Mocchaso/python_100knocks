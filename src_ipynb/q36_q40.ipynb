{
 "cells": [
  {
   "cell_type": "code",
   "execution_count": 1,
   "metadata": {},
   "outputs": [
    {
     "name": "stdout",
     "output_type": "stream",
     "text": [
      "{'Creature of Habit': 'A nun turns into a monster', 'Crewel Fate': 'A haunted yarn shop'}\n",
      "記事内の解法\n"
     ]
    },
    {
     "data": {
      "text/plain": [
       "{'Creature of Habit': 'A nun turns into a monster',\n",
       " 'Crewel Fate': 'A haunted yarn shop'}"
      ]
     },
     "execution_count": 1,
     "metadata": {},
     "output_type": "execute_result"
    }
   ],
   "source": [
    "# q36\n",
    "# zip()を使ってmoviesという辞書を作れ\n",
    "# 条件：\n",
    "# 辞書は、titles = [\"Creature of Habit\", \"Crewel Fate\"]というリストと\n",
    "# plots = [\"A nun turns into a monster\", \"A haunted yarn shop\"]というリストを組み合わせて作るものとする。]\n",
    "\n",
    "titles = [\"Creature of Habit\", \"Crewel Fate\"]\n",
    "plots = [\"A nun turns into a monster\", \"A haunted yarn shop\"]\n",
    "\n",
    "movies = {}\n",
    "for title, plot in zip(titles, plots):\n",
    "    movies[title] = plot\n",
    "print(movies)\n",
    "\n",
    "# 記事内の解法\n",
    "print(\"記事内の解法\")\n",
    "\n",
    "titles = [\"Creature of Habit\", \"Crewel Fate\"]\n",
    "plots = [\"A nun turns into a monster\", \"A haunted yarn shop\"]\n",
    "\n",
    "movies = dict(zip(titles, plots))\n",
    "movies"
   ]
  },
  {
   "cell_type": "code",
   "execution_count": 4,
   "metadata": {},
   "outputs": [
    {
     "name": "stdout",
     "output_type": "stream",
     "text": [
      "Hydrogem\n",
      "記事内の解法\n"
     ]
    },
    {
     "data": {
      "text/plain": [
       "'Hydrogem'"
      ]
     },
     "execution_count": 4,
     "metadata": {},
     "output_type": "execute_result"
    }
   ],
   "source": [
    "# q37\n",
    "# クラスのオブジェクト(を)辞書から直接初期化しよう\n",
    "# 条件：以下のクラスと辞書を使用。\n",
    "# *args: 任意の固定引数が入ったタプル\n",
    "# **kwargs: 任意のキーワード引数が入った辞書\n",
    "#クラス\n",
    "class Elements:\n",
    "    def __init__(self, name, symbol, number):\n",
    "        self.name = name\n",
    "        self.symbol = symbol\n",
    "        self.number = number\n",
    "#辞書\n",
    "el_dict = {\"name\": \"Hydrogem\", \"symbol\": \"H\", \"number\": 1 }\n",
    "\n",
    "\n",
    "# 直接初期化しない場合しか分からなかった\n",
    "h = Elements(el_dict[\"name\"], el_dict[\"symbol\"], el_dict[\"number\"])\n",
    "\n",
    "print(h.name)\n",
    "\n",
    "# 記事内の解法\n",
    "print(\"記事内の解法\")\n",
    "\n",
    "hydrogem = Elements(**el_dict) # 辞書を引数に渡すときは「**」 をつける\n",
    "hydrogem.name"
   ]
  },
  {
   "cell_type": "code",
   "execution_count": 5,
   "metadata": {},
   "outputs": [
    {
     "name": "stdout",
     "output_type": "stream",
     "text": [
      "自分の回答\n",
      "<__main__.Elements object at 0x0000001E97FBFE10>\n",
      "記事内の解法\n",
      "name: Hydrogem, symbol: H, number: 1\n"
     ]
    }
   ],
   "source": [
    "# q38\n",
    "# クラスを編集しprint(hydrogem)だけでオブジェクト属性の値が表示されるようにせよ\n",
    "# 問題のクラス\n",
    "class Elements:\n",
    "    def __init__(self, name, symbol, number):\n",
    "        self.name = name\n",
    "        self.symbol = symbol\n",
    "        self.number = number\n",
    "\n",
    "# 自分の回答\n",
    "print(\"自分の回答\")\n",
    "class Elements:\n",
    "    def __init__(self, name, symbol, number):\n",
    "        self.name = name\n",
    "        self.symbol = symbol\n",
    "        self.number = number\n",
    "    \n",
    "#    def __str__():\n",
    "#        return\n",
    "\n",
    "el_dict = {\"name\": \"Hydrogem\", \"symbol\": \"H\", \"number\": 1 }\n",
    "\n",
    "hydrogem = Elements(**el_dict)\n",
    "print(hydrogem)\n",
    "\n",
    "# 記事内の解法\n",
    "print(\"記事内の解法\")\n",
    "\n",
    "#問題のクラス\n",
    "class Elements:\n",
    "    def __init__(self, name, symbol, number):\n",
    "        self.name = name\n",
    "        self.symbol = symbol\n",
    "        self.number = number\n",
    "\n",
    "\n",
    "#解答\n",
    "class Elements:\n",
    "    def __init__(self, name, symbol, number):\n",
    "        self.name = name\n",
    "        self.symbol = symbol\n",
    "        self.number = number\n",
    "    def __str__(self):\n",
    "        return (\"name: %s, symbol: %s, number: %s\" % (self.name, self.symbol, self.number))\n",
    "\n",
    "el_dict = {\"name\": \"Hydrogem\", \"symbol\": \"H\", \"number\": 1 }\n",
    "\n",
    "hydrogem = Elements(**el_dict)\n",
    "print(hydrogem)"
   ]
  },
  {
   "cell_type": "code",
   "execution_count": 6,
   "metadata": {},
   "outputs": [
    {
     "name": "stdout",
     "output_type": "stream",
     "text": [
      "自分の回答\n",
      "Hydrogem\n"
     ]
    },
    {
     "ename": "AttributeError",
     "evalue": "'Elements' object has no attribute '__name'",
     "output_type": "error",
     "traceback": [
      "\u001b[1;31m---------------------------------------------------------------------------\u001b[0m",
      "\u001b[1;31mAttributeError\u001b[0m                            Traceback (most recent call last)",
      "\u001b[1;32m<ipython-input-6-7297d1427a60>\u001b[0m in \u001b[0;36m<module>\u001b[1;34m()\u001b[0m\n\u001b[0;32m     23\u001b[0m \u001b[0mhydrogem\u001b[0m \u001b[1;33m=\u001b[0m \u001b[0mElements\u001b[0m\u001b[1;33m(\u001b[0m\u001b[1;33m**\u001b[0m\u001b[0mel_dict\u001b[0m\u001b[1;33m)\u001b[0m\u001b[1;33m\u001b[0m\u001b[0m\n\u001b[0;32m     24\u001b[0m \u001b[0mprint\u001b[0m\u001b[1;33m(\u001b[0m\u001b[0mhydrogem\u001b[0m\u001b[1;33m.\u001b[0m\u001b[0m_Elements__name\u001b[0m\u001b[1;33m)\u001b[0m \u001b[1;31m# これだと参照できてしまうらしい\u001b[0m\u001b[1;33m\u001b[0m\u001b[0m\n\u001b[1;32m---> 25\u001b[1;33m \u001b[0mprint\u001b[0m\u001b[1;33m(\u001b[0m\u001b[0mhydrogem\u001b[0m\u001b[1;33m.\u001b[0m\u001b[0m__name\u001b[0m\u001b[1;33m)\u001b[0m \u001b[1;31m# この書き方ならアクセス範囲外\u001b[0m\u001b[1;33m\u001b[0m\u001b[0m\n\u001b[0m",
      "\u001b[1;31mAttributeError\u001b[0m: 'Elements' object has no attribute '__name'"
     ]
    }
   ],
   "source": [
    "# q39\n",
    "# クラスを編集し、name, symbol, number属性を非公開にし、そしてそれぞれについて値を返すゲッターを定義せよ\n",
    "\n",
    "# 問題のクラスと自分の回答\n",
    "print(\"自分の回答\")\n",
    "class Elements:\n",
    "    def __init__(self, name, symbol, number):\n",
    "        self.__name = name\n",
    "        self.__symbol = symbol\n",
    "        self.__number = number\n",
    "    \n",
    "    def getName(self):\n",
    "        return self.__name\n",
    "    \n",
    "    def getSymbol(self):\n",
    "        return self.__symbol\n",
    "    \n",
    "    def getNumber(self):\n",
    "        return self.__number\n",
    "\n",
    "el_dict = {\"name\": \"Hydrogem\", \"symbol\": \"H\", \"number\": 1 }\n",
    "\n",
    "hydrogem = Elements(**el_dict)\n",
    "print(hydrogem._Elements__name) # これだと参照できてしまうらしい\n",
    "print(hydrogem.__name) # この書き方ならアクセス範囲外"
   ]
  },
  {
   "cell_type": "code",
   "execution_count": 8,
   "metadata": {},
   "outputs": [
    {
     "name": "stdout",
     "output_type": "stream",
     "text": [
      "記事内の解法\n",
      "Hydrogem\n"
     ]
    },
    {
     "ename": "AttributeError",
     "evalue": "'Elements' object has no attribute '__name'",
     "output_type": "error",
     "traceback": [
      "\u001b[1;31m---------------------------------------------------------------------------\u001b[0m",
      "\u001b[1;31mAttributeError\u001b[0m                            Traceback (most recent call last)",
      "\u001b[1;32m<ipython-input-8-4568601dcfa2>\u001b[0m in \u001b[0;36m<module>\u001b[1;34m()\u001b[0m\n\u001b[0;32m     31\u001b[0m \u001b[1;33m\u001b[0m\u001b[0m\n\u001b[0;32m     32\u001b[0m \u001b[0mprint\u001b[0m\u001b[1;33m(\u001b[0m\u001b[0mhydrogem\u001b[0m\u001b[1;33m.\u001b[0m\u001b[0mname\u001b[0m\u001b[1;33m)\u001b[0m\u001b[1;33m\u001b[0m\u001b[0m\n\u001b[1;32m---> 33\u001b[1;33m \u001b[0mprint\u001b[0m\u001b[1;33m(\u001b[0m\u001b[0mhydrogem\u001b[0m\u001b[1;33m.\u001b[0m\u001b[0m__name\u001b[0m\u001b[1;33m)\u001b[0m\u001b[1;33m\u001b[0m\u001b[0m\n\u001b[0m",
      "\u001b[1;31mAttributeError\u001b[0m: 'Elements' object has no attribute '__name'"
     ]
    }
   ],
   "source": [
    "# q39 記事内の解法\n",
    "print(\"記事内の解法\")\n",
    "\n",
    "#問題\n",
    "class Elements:\n",
    "    def __init__(self, name, symbol, number):\n",
    "        self.__name = name\n",
    "        self.__symbol = symbol\n",
    "        self.__number = number\n",
    "\n",
    "#解答\n",
    "class Elements:\n",
    "    def __init__(self, name, symbol, number):\n",
    "        self.__name = name\n",
    "        self.__symbol = symbol\n",
    "        self.__number = number\n",
    "\n",
    "    @property#属性を非公開にする\n",
    "    def name(self):\n",
    "        return self.__name\n",
    "\n",
    "    def symbol(self):\n",
    "        return self.__symbol\n",
    "\n",
    "    def number(self):\n",
    "        return self.__number\n",
    "\n",
    "el_dict = {\"name\": \"Hydrogem\", \"symbol\": \"H\", \"number\": 1 }\n",
    "\n",
    "hydrogem = Elements(**el_dict)\n",
    "\n",
    "print(hydrogem.name)\n",
    "print(hydrogem.__name)"
   ]
  },
  {
   "cell_type": "code",
   "execution_count": 9,
   "metadata": {},
   "outputs": [
    {
     "name": "stdout",
     "output_type": "stream",
     "text": [
      "berries\n",
      "clover\n",
      "campers\n"
     ]
    }
   ],
   "source": [
    "# q40\n",
    "# Bear, Rabbit, Octothorpeの3つのクラスを定義せよ\n",
    "# 条件：\n",
    "# それぞれについて唯一のメソッド、eats()を定義する。\n",
    "# eats()は、\"berries\"(Bear)、\"clover\"(Rabbit)、\"campers\"(Octothorpe)を返すものとする。\n",
    "# それぞれのクラスからオブジェクトを作り、何を食べるのかを表示せよ。\n",
    "\n",
    "class Bear:\n",
    "    def eats(self):\n",
    "        return \"berries\"\n",
    "\n",
    "class Rabbit:\n",
    "    def eats(self):\n",
    "        return \"clover\"\n",
    "\n",
    "class Octothorpe:\n",
    "    def eats(self):\n",
    "        return \"campers\"\n",
    "\n",
    "b = Bear()\n",
    "r = Rabbit()\n",
    "o = Octothorpe()\n",
    "\n",
    "print(b.eats())\n",
    "print(r.eats())\n",
    "print(o.eats())"
   ]
  },
  {
   "cell_type": "code",
   "execution_count": null,
   "metadata": {
    "collapsed": true
   },
   "outputs": [],
   "source": []
  }
 ],
 "metadata": {
  "kernelspec": {
   "display_name": "Python 3",
   "language": "python",
   "name": "python3"
  },
  "language_info": {
   "codemirror_mode": {
    "name": "ipython",
    "version": 3
   },
   "file_extension": ".py",
   "mimetype": "text/x-python",
   "name": "python",
   "nbconvert_exporter": "python",
   "pygments_lexer": "ipython3",
   "version": "3.6.3"
  }
 },
 "nbformat": 4,
 "nbformat_minor": 2
}
