{
 "cells": [
  {
   "cell_type": "code",
   "execution_count": 1,
   "metadata": {
    "collapsed": true
   },
   "outputs": [],
   "source": [
    "# 正規表現の基本\n",
    "# 次の文について各問いに答えよ\n",
    "# sentence = \"Chicken Little\""
   ]
  },
  {
   "cell_type": "code",
   "execution_count": 2,
   "metadata": {},
   "outputs": [
    {
     "name": "stdout",
     "output_type": "stream",
     "text": [
      "Chi\n"
     ]
    }
   ],
   "source": [
    "# q45\n",
    "# ソースの先頭が、指定したパターンと一致しているか\n",
    "\n",
    "import re\n",
    "sentence = \"Chicken Little\"\n",
    "\n",
    "m = re.match(\"Chi\", sentence)\n",
    "if m:\n",
    "    print(m.group())"
   ]
  },
  {
   "cell_type": "code",
   "execution_count": 3,
   "metadata": {},
   "outputs": [
    {
     "name": "stdout",
     "output_type": "stream",
     "text": [
      "Chicken Little\n",
      "ttle\n"
     ]
    }
   ],
   "source": [
    "# q46\n",
    "# ソース内に、指定したパターンと一致しているか\n",
    "\n",
    "m1 = re.match(\".*ttle\", sentence)# .*（ワイルドカード）を加えることによって先頭じゃない場合もヒットさせることができる、\n",
    "if m1:\n",
    "    print(m1.group())\n",
    "\n",
    "ms = re.search(\"ttle\", sentence) # search()を使うとワイルドカード不要\n",
    "if ms:\n",
    "    print(ms.group())"
   ]
  },
  {
   "cell_type": "code",
   "execution_count": 4,
   "metadata": {},
   "outputs": [
    {
     "name": "stdout",
     "output_type": "stream",
     "text": [
      "['n']\n",
      "1\n",
      "['n ']\n",
      "['n ']\n"
     ]
    }
   ],
   "source": [
    "# q47\n",
    "# 文字列の中に\"n\"を含む文字列が何個あるか\n",
    "\n",
    "# ”n”という文字だけヒット\n",
    "m3 = re.findall(\"n\", sentence)\n",
    "print(m3)\n",
    "print(len(m3))\n",
    "\n",
    "# \"n\"の後ろに任意の文字1字\n",
    "#sentenceの最後の\"n\"がマッチしていないことに注目\n",
    "m4 = re.findall(\"n.\", sentence)\n",
    "print(m4)\n",
    "\n",
    "# 最後の\"n\"もマッチさせたい場合\n",
    "m5 = re.findall(\"n.?\", sentence) # 0か１文字の直線の文字にマッチする（オプション）\n",
    "print(m5)"
   ]
  },
  {
   "cell_type": "code",
   "execution_count": 5,
   "metadata": {},
   "outputs": [
    {
     "name": "stdout",
     "output_type": "stream",
     "text": [
      "Chickes Little\n"
     ]
    }
   ],
   "source": [
    "# q48\n",
    "# \"n\"を\"s\"に置きかえよ\n",
    "\n",
    "m = re.sub(\"n\", \"s\", sentence)\n",
    "print(m)"
   ]
  },
  {
   "cell_type": "code",
   "execution_count": null,
   "metadata": {
    "collapsed": true
   },
   "outputs": [],
   "source": []
  }
 ],
 "metadata": {
  "kernelspec": {
   "display_name": "Python 3",
   "language": "python",
   "name": "python3"
  },
  "language_info": {
   "codemirror_mode": {
    "name": "ipython",
    "version": 3
   },
   "file_extension": ".py",
   "mimetype": "text/x-python",
   "name": "python",
   "nbconvert_exporter": "python",
   "pygments_lexer": "ipython3",
   "version": "3.6.3"
  }
 },
 "nbformat": 4,
 "nbformat_minor": 2
}
