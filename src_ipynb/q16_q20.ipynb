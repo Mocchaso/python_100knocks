{
 "cells": [
  {
   "cell_type": "code",
   "execution_count": 1,
   "metadata": {},
   "outputs": [
    {
     "name": "stdout",
     "output_type": "stream",
     "text": [
      "0.8660254037844386\n"
     ]
    }
   ],
   "source": [
    "# q16\n",
    "# 標準ライブラリを使ってsin60°を求める\n",
    "\n",
    "import math\n",
    "print(math.sin((math.pi / 180)* 60))"
   ]
  },
  {
   "cell_type": "code",
   "execution_count": 2,
   "metadata": {},
   "outputs": [
    {
     "name": "stdout",
     "output_type": "stream",
     "text": [
      "b'48656c6c6f'\n",
      "b'Hello'\n"
     ]
    }
   ],
   "source": [
    "# q17\n",
    "# 16進数ダンプ(逆バージョンも)\n",
    "# 16進数ダンプ：メモリやファイルの内容などを16進数の形で目に見えるように書き出す(表示する)こと\n",
    "\n",
    "import binascii\n",
    "# 文字列 -> 16進数\n",
    "print(binascii.hexlify(b'Hello'))\n",
    "# 16進数 -> 文字列\n",
    "print(binascii.unhexlify(b'48656c6c6f'))"
   ]
  },
  {
   "cell_type": "code",
   "execution_count": 4,
   "metadata": {},
   "outputs": [
    {
     "name": "stdout",
     "output_type": "stream",
     "text": [
      "記事内の解法\n",
      "7iI7I6qu\n",
      "joinを使わなければこういう方法になる\n",
      "Y5BRhwM9\n"
     ]
    }
   ],
   "source": [
    "# q18\n",
    "# パスワードを自動生成する\n",
    "# 問題：英字(大文字小文字含める)と数字を組み合わせた、8文字のパスワードを自動で生成せよ\n",
    "\n",
    "import random\n",
    "alpha = [\"a\", \"b\", \"c\", \"d\", \"e\", \"f\", \"g\", \"h\", \"i\", \"j\", \"k\",\n",
    "        \"l\", \"m\", \"n\", \"o\", \"p\", \"q\", \"r\", \"s\", \"t\", \"u\", \"v\",\n",
    "        \"w\", \"x\", \"y\", \"z\", \"A\", \"B\", \"C\", \"D\", \"E\", \"F\", \"G\",\n",
    "        \"H\", \"I\", \"J\", \"K\", \"L\", \"M\", \"N\", \"O\", \"P\", \"Q\", \"R\",\n",
    "        \"S\", \"T\", \"U\", \"V\", \"W\", \"X\", \"Y\", \"Z\"]\n",
    "\n",
    "password = \"\"\n",
    "for i in range(8):\n",
    "    order = random.randint(0, 2)\n",
    "    if order % 2 == 0:\n",
    "        password += random.choice(alpha)\n",
    "    elif order % 2 != 0:\n",
    "        password += str(random.randrange(10))\n",
    "\n",
    "password\n",
    "\n",
    "# 記事内の解法\n",
    "print(\"記事内の解法\")\n",
    "\n",
    "# 英字(小文字＆大文字)：string.ascii_letters\n",
    "# 数字：string.digits\n",
    "# 記号：string.punctuation\n",
    "\n",
    "import string\n",
    "import random\n",
    "\n",
    "a = ''.join([random.choice(string.ascii_letters + string.digits) for i in range(8)]) # リストの中の文字を連結できる\n",
    "print(a)\n",
    "\n",
    "# joinを使わなければこういう方法になる\n",
    "print(\"joinを使わなければこういう方法になる\")\n",
    "\n",
    "import string\n",
    "import random\n",
    "b = string.ascii_letters + string.digits\n",
    "result = \"\"\n",
    "for i in range(8):\n",
    "    result += random.choice(b)\n",
    "print(result)"
   ]
  },
  {
   "cell_type": "code",
   "execution_count": 5,
   "metadata": {},
   "outputs": [
    {
     "name": "stdout",
     "output_type": "stream",
     "text": [
      "[44, 12, 98, 64, 69, 2, 17, 78, 34, 64]\n"
     ]
    }
   ],
   "source": [
    "# q19\n",
    "# ランダムな数字のリストを生成せよ\n",
    "# 問題：表示する数字の個数、数字の範囲(最小と最大)を指定し、その中でランダムな数字を生成\n",
    "\n",
    "import random\n",
    "\n",
    "def random_digits(size, low, high):\n",
    "    values = []\n",
    "    for i in range(size):\n",
    "        values.append(random.randint(low, high))\n",
    "    return values\n",
    "\n",
    "print(random_digits(10, 0, 100))"
   ]
  },
  {
   "cell_type": "code",
   "execution_count": 7,
   "metadata": {},
   "outputs": [
    {
     "name": "stdout",
     "output_type": "stream",
     "text": [
      "ONE PAIR\n",
      "記事内の解法\n",
      "THREE CARD\n"
     ]
    }
   ],
   "source": [
    "# q20\n",
    "# 簡単ポーカー\n",
    "# 問題：\n",
    "# 5枚のカードが配られます。\n",
    "# それぞれのカードには、1以上13以下のいずれかの整数が書かれています。\n",
    "# カードに書かれている整数の組み合わせによって役が決まります。\n",
    "# 配られた5枚のカードが、以下のいずれの役に該当するかを調べてください。複数の役に該当する場合は、以下で先に記述した方の役に該当するものとします。\n",
    "# 条件：\n",
    "# FULL HOUSE\n",
    "# ある数をちょうど3つと、別の数をちょうど2つ含む。\n",
    "# FOUR CARD\n",
    "# ある数をちょうど4つ含む\n",
    "# THREE CARD\n",
    "# ある数をちょうど3つ含む\n",
    "# TWO PAIR\n",
    "# ある数をちょうど2つと、別の数をちょうど2つ含む\n",
    "# ONE PAIR\n",
    "# ある数をちょうど2つ含む\n",
    "\n",
    "import random\n",
    "\n",
    "hands = [random.randint(1, 13) for i in range(5)]\n",
    "\n",
    "result = \"\"\n",
    "def judge(hands):\n",
    "    for i in range(14):\n",
    "        for j in range(14):\n",
    "            if hands.count(i) == 3 and hands.count(j) == 2:\n",
    "                result = \"FULL HOUSE\"\n",
    "                return result\n",
    "            elif hands.count(i) == 4:\n",
    "                result = \"FOUR CARD\"\n",
    "                return result\n",
    "            elif hands.count(i) == 3:\n",
    "                result = \"THREE CARD\"\n",
    "                return result\n",
    "            elif hands.count(i) == 2 and hands.count(j) == 2:\n",
    "                result = \"TWO PAIR\"\n",
    "                return result\n",
    "            elif hands.count(i) == 2:\n",
    "                result = \"ONE PAIR\"\n",
    "                return result\n",
    "            else:\n",
    "                result = \"NO PAIR\"\n",
    "\n",
    "print(judge(hands))\n",
    "\n",
    "# 記事内の解法\n",
    "print(\"記事内の解法\")\n",
    "def check_hand(a,b,c,d,e):\n",
    "    list_hands = [a,b,c,d,e]\n",
    "    dict_hands = {0 : \"NO PAIR\", 1 : \"ONE PAIR\", 2 : \"TWO PAIR\", 3 : \"THREE CARD\", 4 : \"FOUR CARD\", 5 : \"FULL HOUSE\"}\n",
    "    results = []\n",
    "    for i in list_hands:\n",
    "        count_i = list_hands.count(i)\n",
    "        for j in list_hands:\n",
    "            count_j = list_hands.count(j)\n",
    "            if count_i == 2 and count_j < 2:\n",
    "                results.append(1)\n",
    "            elif count_i == 2 and count_j == 2:\n",
    "                results.append(2)\n",
    "            elif count_i == 3 and count_j == 1:\n",
    "                results.append(3)\n",
    "            elif count_i == 4 and count_j == 1 :\n",
    "                results.append(4)\n",
    "            elif count_i == 3 and count_j == 2 :\n",
    "                results.append(5)\n",
    "            else:\n",
    "                results.append(0)\n",
    "    result = max(results)\n",
    "    return dict_hands[result]\n",
    "\n",
    "print(check_hand(1,1,7,1,3) )"
   ]
  },
  {
   "cell_type": "code",
   "execution_count": null,
   "metadata": {
    "collapsed": true
   },
   "outputs": [],
   "source": []
  }
 ],
 "metadata": {
  "kernelspec": {
   "display_name": "Python 3",
   "language": "python",
   "name": "python3"
  },
  "language_info": {
   "codemirror_mode": {
    "name": "ipython",
    "version": 3
   },
   "file_extension": ".py",
   "mimetype": "text/x-python",
   "name": "python",
   "nbconvert_exporter": "python",
   "pygments_lexer": "ipython3",
   "version": "3.6.3"
  }
 },
 "nbformat": 4,
 "nbformat_minor": 2
}
