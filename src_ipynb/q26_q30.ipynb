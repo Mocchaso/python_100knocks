{
 "cells": [
  {
   "cell_type": "code",
   "execution_count": 1,
   "metadata": {},
   "outputs": [
    {
     "name": "stdout",
     "output_type": "stream",
     "text": [
      "['mozzarella', 'cinderella', 'salmonella']\n",
      "['Mozzarella', 'cinderella', 'salmonella']\n",
      "['Mozzarella', 'CINDERELLA', 'salmonella']\n",
      "['Mozzarella', 'CINDERELLA', 'ALLENOMLAS']\n"
     ]
    }
   ],
   "source": [
    "# q26\n",
    "# リスト問題\n",
    "# 問題：\n",
    "# １. \"mozzarella\",\"cinderella\",\"salmonella\"(「モッツァレラ」「シンデレラ」「サルモネラ菌」)\n",
    "# の３つの文字列を要素としてthingsというリストを作成\n",
    "# ２. \"mozzarella\"の先頭文字を大文字にする\n",
    "# ３. \"cinderella\"を全て大文字にする\n",
    "# ４. \"salmonella\"を大文字にして、逆順にする。\n",
    "\n",
    "# 1.\n",
    "things = [\"mozzarella\", \"cinderella\", \"salmonella\"]\n",
    "print(things)\n",
    "# 2.\n",
    "things[0] = things[0].capitalize()\n",
    "print(things)\n",
    "# 3.\n",
    "things[1] = things[1].upper()\n",
    "print(things)\n",
    "# 4.\n",
    "things[2] = things[2].upper()[::-1]\n",
    "print(things)"
   ]
  },
  {
   "cell_type": "code",
   "execution_count": 2,
   "metadata": {},
   "outputs": [
    {
     "name": "stdout",
     "output_type": "stream",
     "text": [
      "{'dog': 'chien', 'cat': 'chat', 'walrus': 'mourse'}\n",
      "mourse\n",
      "{'chien': 'dog', 'chat': 'cat', 'mourse': 'walrus'}\n",
      "{'dog', 'walrus', 'cat'}\n"
     ]
    }
   ],
   "source": [
    "# q27\n",
    "# 辞書問題\n",
    "# 問題：\n",
    "# 1. e2fという英仏辞書を作り、それを表示\n",
    "# この辞書にはdogはchien,catはchat,walrusはmourseという情報が入っている。\n",
    "# 2. 辞書e2fを使って、walrusという単語に対応するフランス語を表示\n",
    "# 3. e2fからf2eという仏英辞書を作成\n",
    "# 4. e2fから英単語だけを集合の形で表示せよ\n",
    "\n",
    "# 1.\n",
    "e2f = {\"dog\":\"chien\", \"cat\":\"chat\", \"walrus\":\"mourse\"}\n",
    "print(e2f)\n",
    "# 2.\n",
    "print(e2f[\"walrus\"])\n",
    "# 3.\n",
    "f2e = {}\n",
    "for k, v in e2f.items():\n",
    "    f2e[v] = k\n",
    "print(f2e)\n",
    "# 4.\n",
    "print(set(e2f)) # -> print(set(e2f.keys()))の方が良さそう"
   ]
  },
  {
   "cell_type": "code",
   "execution_count": 3,
   "metadata": {},
   "outputs": [
    {
     "name": "stdout",
     "output_type": "stream",
     "text": [
      "{'animals': {'cats': ['Henri', 'Grumpy', 'lucy'], 'octopi': {}, 'emus': {}}, 'plants': {}, 'other': {}}\n",
      "dict_keys(['animals', 'plants', 'other'])\n",
      "dict_keys(['cats', 'octopi', 'emus'])\n",
      "['Henri', 'Grumpy', 'lucy']\n"
     ]
    }
   ],
   "source": [
    "# q28\n",
    "# 多重レベルの辞書問題\n",
    "# 問題：\n",
    "# 1. lifeという多重レベルの辞書を作る。 \n",
    "# \"animals\",\"plants\",\"other\"という最上位キーがあり、\n",
    "# animalsキーは\"cats\",\"octopi\",\"emus\"というキーを持つ他の辞書を参照する。\n",
    "# catsキーは\"Henri\",\"Grumpy\",\"lucy\"という文字列のリストを参照する。\n",
    "# 他のキーは空辞書を参照する。\n",
    "# 2. lifeの最上位のキーを表示せよ\n",
    "# 3. life[\"animals\"]のキーを表示せよ\n",
    "# 4. life[\"animals\"][\"cats\"]の値を表示せよ\n",
    "\n",
    "# 1.\n",
    "life = {\"animals\":{\"cats\":[\"Henri\", \"Grumpy\", \"lucy\"],\n",
    "                   \"octopi\":{},\n",
    "                   \"emus\":{}},\n",
    "        \"plants\":{},\n",
    "        \"other\":{}}\n",
    "print(life)\n",
    "# 2.\n",
    "print(life.keys())\n",
    "# 3.\n",
    "print(life[\"animals\"].keys())\n",
    "# 4.\n",
    "print(life[\"animals\"][\"cats\"])"
   ]
  },
  {
   "cell_type": "code",
   "execution_count": 4,
   "metadata": {},
   "outputs": [
    {
     "name": "stdout",
     "output_type": "stream",
     "text": [
      "[0, 2, 4, 6, 8]\n"
     ]
    }
   ],
   "source": [
    "# q29\n",
    "# リスト内包表記を使って、range(10)の偶数リストを作れ\n",
    "\n",
    "even = [i for i in range(10) if i % 2 == 0]\n",
    "print(even)"
   ]
  },
  {
   "cell_type": "code",
   "execution_count": 6,
   "metadata": {},
   "outputs": [
    {
     "name": "stdout",
     "output_type": "stream",
     "text": [
      "{0: 0, 1: 1, 2: 4, 3: 9, 4: 16, 5: 25, 6: 36, 7: 49, 8: 64, 9: 81}\n"
     ]
    }
   ],
   "source": [
    "# q30\n",
    "# 辞書内包表記を使って、squaresという辞書を作れ\n",
    "# 条件： キーの値は、range(10)を使ってキーを返し、各キーの2乗とする。\n",
    "\n",
    "# 分からなかった\n",
    "# squares = {i for i in range(10): i**2 for i in range(10)}\n",
    "\n",
    "# 記事内の解法\n",
    "squares = {key: key * key for key in range(10)}\n",
    "print(squares)"
   ]
  },
  {
   "cell_type": "code",
   "execution_count": null,
   "metadata": {
    "collapsed": true
   },
   "outputs": [],
   "source": []
  }
 ],
 "metadata": {
  "kernelspec": {
   "display_name": "Python 3",
   "language": "python",
   "name": "python3"
  },
  "language_info": {
   "codemirror_mode": {
    "name": "ipython",
    "version": 3
   },
   "file_extension": ".py",
   "mimetype": "text/x-python",
   "name": "python",
   "nbconvert_exporter": "python",
   "pygments_lexer": "ipython3",
   "version": "3.6.3"
  }
 },
 "nbformat": 4,
 "nbformat_minor": 2
}
