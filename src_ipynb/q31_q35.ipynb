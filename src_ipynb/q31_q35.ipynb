{
 "cells": [
  {
   "cell_type": "code",
   "execution_count": 1,
   "metadata": {},
   "outputs": [
    {
     "name": "stdout",
     "output_type": "stream",
     "text": [
      "{1, 3, 5, 7, 9}\n"
     ]
    }
   ],
   "source": [
    "# q31\n",
    "# 集合内包表記を使って、range(10)の奇数の集合を作れ\n",
    "\n",
    "print(set(i for i in range(10) if i % 2 == 1))"
   ]
  },
  {
   "cell_type": "code",
   "execution_count": 2,
   "metadata": {},
   "outputs": [
    {
     "name": "stdout",
     "output_type": "stream",
     "text": [
      "記事内の解法\n",
      "Got 0\n",
      "Got 1\n",
      "Got 2\n",
      "Got 3\n",
      "Got 4\n",
      "Got 5\n",
      "Got 6\n",
      "Got 7\n",
      "Got 8\n",
      "Got 9\n"
     ]
    }
   ],
   "source": [
    "# q32\n",
    "# range(10)の数値に対しては、\"Got\"と数値を返すジェネレータ関数を作れ\n",
    "# 条件：・ ジェネレータ内包表記を使うこと\n",
    "# 　　　・ for文を使って反復処理すること\n",
    "# 出力例：Got 0, Got 1, Got 2 ・・・・・\n",
    "\n",
    "# 取り組んだアプローチ1\n",
    "#def generator(num):\n",
    "#    if num in range(10):\n",
    "#        yield \"Got\"\n",
    "#        yield num\n",
    "\n",
    "# 取り組んだアプローチ2\n",
    "# print(i for i in range(10))\n",
    "\n",
    "# 記事内の解法\n",
    "print(\"記事内の解法\")\n",
    "for thing in (\"Got %s\" % number for number in range(10)):\n",
    "    print(thing)"
   ]
  },
  {
   "cell_type": "code",
   "execution_count": 3,
   "metadata": {},
   "outputs": [
    {
     "name": "stdout",
     "output_type": "stream",
     "text": [
      "5\n",
      "記事内の解法\n",
      "5\n"
     ]
    }
   ],
   "source": [
    "# q33\n",
    "# range(10)から奇数を返すジェネレータ関数を定義し、for文を使って、返された3番目の値を見つけて表示せよ。\n",
    "\n",
    "for idx, odd in enumerate((i for i in range(10) if i % 2 == 1)):\n",
    "    if idx == 2: # 返された\n",
    "        print(odd)\n",
    "\n",
    "# 記事内の解法\n",
    "print(\"記事内の解法\")\n",
    "def get_odds():\n",
    "    for number in range(1, 10, 2):\n",
    "        yield number\n",
    "\n",
    "\n",
    "\n",
    "for count, number in enumerate(get_odds(), 1): # enumerate()の第二引数は、インデックスのstartを変更するもの\n",
    "    if count == 3:\n",
    "        print(number)\n",
    "        break"
   ]
  },
  {
   "cell_type": "code",
   "execution_count": 4,
   "metadata": {},
   "outputs": [
    {
     "name": "stdout",
     "output_type": "stream",
     "text": [
      "記事内の解法\n",
      "start\n",
      "Hello\n",
      "end\n"
     ]
    }
   ],
   "source": [
    "# q34\n",
    "# デコレータの定義\n",
    "# 問題：関数が呼び出された時に\"start\"、終了した時に\"end\"を表示するtestというデコレータを定義せよ\n",
    "\n",
    "# 分からなかった\n",
    "\n",
    "# 記事内の解法\n",
    "print(\"記事内の解法\")\n",
    "def test(func):\n",
    "    def new_func(*args, **kwargs):\n",
    "        print(\"start\")\n",
    "        result = func(*args, **kwargs)\n",
    "        print(\"end\")\n",
    "        return result\n",
    "    return new_func\n",
    "\n",
    "@test\n",
    "def greeting():\n",
    "    print(\"Hello\")\n",
    "\n",
    "greeting()"
   ]
  },
  {
   "cell_type": "code",
   "execution_count": 8,
   "metadata": {},
   "outputs": [
    {
     "name": "stdout",
     "output_type": "stream",
     "text": [
      "サンプル\n",
      "Position [q to qui]? q\n",
      "自分の回答\n",
      "Position [q to qui]? q\n",
      "記事内の解法\n",
      "Position [q to qui]? q\n"
     ]
    }
   ],
   "source": [
    "# q35\n",
    "# 例外のキャッチ\n",
    "# 問題：以下のコードには例外が含まれる。例外に対するエラー処理を2つ追加せよ。\n",
    "print(\"サンプル\")\n",
    "short_list = [1,2,3]\n",
    "while True:\n",
    "    value = input(\"Position [q to qui]? \")\n",
    "    if value == \"q\":\n",
    "        break\n",
    "    position = int(value)\n",
    "    print(short_list[position])\n",
    "\n",
    "# 自分の回答\n",
    "# インデックスエラー、q以外のアルファベット等が入力された時のエラー\n",
    "print(\"自分の回答\")\n",
    "\n",
    "short_list = [1,2,3]\n",
    "while True:\n",
    "    try:\n",
    "        value = input(\"Position [q to qui]? \")\n",
    "        if value == \"q\":\n",
    "            break\n",
    "        position = int(value)\n",
    "        print(short_list[position])\n",
    "    except IndexError:\n",
    "        print(\"範囲外です\")\n",
    "    except Exception:\n",
    "        print(\"エラー\")\n",
    "\n",
    "# 記事内の解法\n",
    "print(\"記事内の解法\")\n",
    "\n",
    "short_list = [1,2,3]\n",
    "while True:\n",
    "    value = input(\"Position [q to qui]? \")\n",
    "    if value == \"q\":\n",
    "        break\n",
    "    try:\n",
    "        position = int(value)\n",
    "        print(short_list[position])\n",
    "    except IndexError as err:\n",
    "        print(\"Bad index:\", position)\n",
    "    except Exception as other:\n",
    "        print(\"something else broke:\", other)"
   ]
  },
  {
   "cell_type": "code",
   "execution_count": null,
   "metadata": {
    "collapsed": true
   },
   "outputs": [],
   "source": []
  }
 ],
 "metadata": {
  "kernelspec": {
   "display_name": "Python 3",
   "language": "python",
   "name": "python3"
  },
  "language_info": {
   "codemirror_mode": {
    "name": "ipython",
    "version": 3
   },
   "file_extension": ".py",
   "mimetype": "text/x-python",
   "name": "python",
   "nbconvert_exporter": "python",
   "pygments_lexer": "ipython3",
   "version": "3.6.3"
  }
 },
 "nbformat": 4,
 "nbformat_minor": 2
}
