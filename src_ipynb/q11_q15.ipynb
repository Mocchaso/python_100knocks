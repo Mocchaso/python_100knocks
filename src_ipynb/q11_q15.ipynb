{
 "cells": [
  {
   "cell_type": "code",
   "execution_count": 1,
   "metadata": {},
   "outputs": [
    {
     "name": "stdout",
     "output_type": "stream",
     "text": [
      "ソート前：['s', 'o', 'f', 't', 't', 'e', 'n', 'n', 'i', 's', '.']\n",
      "ソート後：['.', 'e', 'f', 'i', 'n', 'n', 'o', 's', 's', 't', 't']\n"
     ]
    }
   ],
   "source": [
    "# q11\n",
    "# テキストファイル内の文字をアルファベット順に表示せよ\n",
    "\n",
    "with open(\"q11.txt\", \"r\") as file:\n",
    "    text = file.read().split()\n",
    "    print(\"ソート前：{}\".format(text))\n",
    "    text.sort()\n",
    "    print(\"ソート後：{}\".format(text))"
   ]
  },
  {
   "cell_type": "code",
   "execution_count": 2,
   "metadata": {},
   "outputs": [
    {
     "name": "stdout",
     "output_type": "stream",
     "text": [
      "sがq11.txtに含まれている個数：2\n"
     ]
    }
   ],
   "source": [
    "# q12\n",
    "# 問題：テキストファイルの中に、調べたい文字がいくつ含まれているか自動で数えさせるプログラムを書きなさい\n",
    "\n",
    "def count_str(target):\n",
    "    total = 0\n",
    "    with open(\"q11.txt\", \"r\") as file:\n",
    "        for line in file:\n",
    "            total += line.count(target)\n",
    "    return total\n",
    "\n",
    "print(\"{}がq11.txtに含まれている個数：{}\".format(\"s\", count_str(\"s\")))"
   ]
  },
  {
   "cell_type": "code",
   "execution_count": 3,
   "metadata": {},
   "outputs": [
    {
     "name": "stdout",
     "output_type": "stream",
     "text": [
      "35.0C\n",
      "59.0F\n",
      "記事内の解法\n"
     ]
    },
    {
     "data": {
      "text/plain": [
       "113.0"
      ]
     },
     "execution_count": 3,
     "metadata": {},
     "output_type": "execute_result"
    }
   ],
   "source": [
    "# q13\n",
    "# 問題：摂氏（C）を入力すると華氏（F）に変換し表示し、華氏を入力すると摂氏に変換表示してくれる関数を作成せよ\n",
    "# 条件：摂氏の場合は\"26C\"のように入力し、華氏の場合は\"67F\"のように入力する\n",
    "\n",
    "def c_f(target):\n",
    "    value = int(target[:2:])\n",
    "    species = target[-1::]\n",
    "    if species == \"C\": # 摂氏(C)から華氏(F)\n",
    "        value = (9 / 5) * value + 32\n",
    "        species = \"F\"\n",
    "    elif species == \"F\": # 華氏(F)から摂氏(C)\n",
    "        value = (5 / 9) * (value - 32)\n",
    "        species = \"C\"\n",
    "    return str(value)+species\n",
    "\n",
    "print(c_f(\"95F\")) # 35C\n",
    "print(c_f(\"15C\")) # 59F\n",
    "\n",
    "# 記事内の解法\n",
    "print(\"記事内の解法\")\n",
    "\n",
    "def convert(text):\n",
    "    if text[-1] == \"C\":\n",
    "        cel = int(text[:-1])#文字列の最後の文字を取り出す\n",
    "        aws = cel * (9/5) + 32\n",
    "    elif text[-1] == \"F\":\n",
    "        fah = int(text[:-1])#文字列の最後以外の文字を取り出す\n",
    "        aws = (fah -32) / (9/5)\n",
    "    else:\n",
    "        aws = \"正しく入力してください\"\n",
    "    return aws\n",
    "\n",
    "convert(\"45C\") "
   ]
  },
  {
   "cell_type": "code",
   "execution_count": 4,
   "metadata": {},
   "outputs": [
    {
     "name": "stdout",
     "output_type": "stream",
     "text": [
      "Recursive\n",
      "append:[1]\n",
      "append:[1, 2]\n",
      "extend:[1, 2]\n",
      "append:[1, 2, 3]\n",
      "append:[1, 2, 3, 4]\n",
      "append:[1, 2, 3, 4, 5]\n",
      "Recursive\n",
      "append:[6]\n",
      "Recursive\n",
      "append:[7]\n",
      "Recursive\n",
      "append:[8]\n",
      "append:[8, 9]\n",
      "extend:[7, 8, 9]\n",
      "extend:[6, 7, 8, 9]\n",
      "extend:[1, 2, 3, 4, 5, 6, 7, 8, 9]\n",
      "[1, 2, 3, 4, 5, 6, 7, 8, 9]\n"
     ]
    }
   ],
   "source": [
    "# q14\n",
    "# 問題：[[1,2],3,4,5,[6,[7,[8,9]]]]のように入れ子になっているリストを、[1, 2, 3, 4, 5, 6, 7, 8, 9]のように平らに入れ直したい。\n",
    "# appendとextendの違いの勉強になる\n",
    "\n",
    "def flatten(nested_list):\n",
    "    result = []\n",
    "    for i in nested_list:\n",
    "        if type(i) is list:\n",
    "            print(\"Recursive\")\n",
    "            result.extend(flatten(i))\n",
    "            print(\"extend:\"+str(result))\n",
    "        else:\n",
    "            result.append(i)\n",
    "            print(\"append:\"+str(result))\n",
    "    return result\n",
    "\n",
    "orig_list = [[1,2],3,4,5,[6,[7,[8,9]]]]\n",
    "print(flatten(orig_list))"
   ]
  },
  {
   "cell_type": "code",
   "execution_count": 5,
   "metadata": {},
   "outputs": [
    {
     "name": "stdout",
     "output_type": "stream",
     "text": [
      "現在の時刻 = 10:11\n",
      "定時 = 20:00\n",
      "1時間当たりの残業代 = 1000\n",
      "残業時間：-10.0時間11.0分, 残業代：-9816.666666666666円\n",
      "記事内の解法と合わせたもの\n",
      "現在の時刻 = q\n",
      "定時 = quit\n",
      "1時間当たりの残業代 = quiot\n"
     ]
    },
    {
     "ename": "ValueError",
     "evalue": "could not convert string to float: 'quiot'",
     "output_type": "error",
     "traceback": [
      "\u001b[1;31m---------------------------------------------------------------------------\u001b[0m",
      "\u001b[1;31mValueError\u001b[0m                                Traceback (most recent call last)",
      "\u001b[1;32m<ipython-input-5-f253a8c95c39>\u001b[0m in \u001b[0;36m<module>\u001b[1;34m()\u001b[0m\n\u001b[0;32m     21\u001b[0m \u001b[0mcurrent_time\u001b[0m \u001b[1;33m=\u001b[0m \u001b[0minput\u001b[0m\u001b[1;33m(\u001b[0m\u001b[1;34m\"現在の時刻 = \"\u001b[0m\u001b[1;33m)\u001b[0m\u001b[1;33m\u001b[0m\u001b[0m\n\u001b[0;32m     22\u001b[0m \u001b[0mout_time\u001b[0m \u001b[1;33m=\u001b[0m \u001b[0minput\u001b[0m\u001b[1;33m(\u001b[0m\u001b[1;34m\"定時 = \"\u001b[0m\u001b[1;33m)\u001b[0m\u001b[1;33m\u001b[0m\u001b[0m\n\u001b[1;32m---> 23\u001b[1;33m \u001b[0mhour_money\u001b[0m \u001b[1;33m=\u001b[0m \u001b[0mfloat\u001b[0m\u001b[1;33m(\u001b[0m\u001b[0minput\u001b[0m\u001b[1;33m(\u001b[0m\u001b[1;34m\"1時間当たりの残業代 = \"\u001b[0m\u001b[1;33m)\u001b[0m\u001b[1;33m)\u001b[0m\u001b[1;33m\u001b[0m\u001b[0m\n\u001b[0m\u001b[0;32m     24\u001b[0m \u001b[0mcurrent_h\u001b[0m \u001b[1;33m=\u001b[0m \u001b[0mfloat\u001b[0m\u001b[1;33m(\u001b[0m\u001b[0mcurrent_time\u001b[0m\u001b[1;33m[\u001b[0m\u001b[1;36m0\u001b[0m\u001b[1;33m:\u001b[0m\u001b[1;36m2\u001b[0m\u001b[1;33m]\u001b[0m\u001b[1;33m)\u001b[0m\u001b[1;33m\u001b[0m\u001b[0m\n\u001b[0;32m     25\u001b[0m \u001b[0mcurrent_m\u001b[0m \u001b[1;33m=\u001b[0m \u001b[0mfloat\u001b[0m\u001b[1;33m(\u001b[0m\u001b[0mcurrent_time\u001b[0m\u001b[1;33m[\u001b[0m\u001b[1;36m3\u001b[0m\u001b[1;33m:\u001b[0m\u001b[1;36m5\u001b[0m\u001b[1;33m]\u001b[0m\u001b[1;33m)\u001b[0m\u001b[1;33m\u001b[0m\u001b[0m\n",
      "\u001b[1;31mValueError\u001b[0m: could not convert string to float: 'quiot'"
     ]
    }
   ],
   "source": [
    "# q15\n",
    "# 対話型残業代自動算出システム\n",
    "# 問題：「現在の時刻」「定時」「1時間あたりの残業代」を対話式に入力すると、残業代が自動で表示されるシステムを作れ\n",
    "# 条件：自国の入力は\"17:00\"のように入力される\n",
    "\n",
    "current_time = input(\"現在の時刻 = \")\n",
    "on_time = input(\"定時 = \")\n",
    "money_per_hour = float(input(\"1時間当たりの残業代 = \"))\n",
    "current_time_hour = float(current_time[0:2])\n",
    "current_time_min = float(current_time[3:5])\n",
    "on_time_hour = float(on_time[0:2])\n",
    "on_time_min = float(on_time[3:5])\n",
    "extra_hour = current_time_hour - on_time_hour\n",
    "extra_min = current_time_min - on_time_min\n",
    "extra_money = money_per_hour * extra_hour + (money_per_hour / 60) * extra_min\n",
    "print(\"残業時間：{}時間{}分, 残業代：{}円\".format(extra_hour, extra_min, extra_money))\n",
    "\n",
    "# 記事内の解法と合わせたもの\n",
    "print(\"記事内の解法と合わせたもの\")\n",
    "\n",
    "current_time = input(\"現在の時刻 = \")\n",
    "out_time = input(\"定時 = \")\n",
    "hour_money = float(input(\"1時間当たりの残業代 = \"))\n",
    "current_h = float(current_time[0:2])\n",
    "current_m = float(current_time[3:5])\n",
    "current_time_min = (60 * current_h) + current_m # 分単位に統一\n",
    "out_h = float(out_time[0:2])\n",
    "out_m = float(out_time[3:5])\n",
    "out_time_min = 60 * out_h + out_m\n",
    "leave_time_min = current_time_min - out_time_min\n",
    "leave_time_h = round((leave_time_min/60),2)\n",
    "cal_money = leave_time_h * hour_money\n",
    "print(\"あなたの残業時間は{0}時間です。残業代金は{1}円になります。\".format(leave_time_h,cal_money))"
   ]
  },
  {
   "cell_type": "code",
   "execution_count": null,
   "metadata": {
    "collapsed": true
   },
   "outputs": [],
   "source": []
  }
 ],
 "metadata": {
  "kernelspec": {
   "display_name": "Python 3",
   "language": "python",
   "name": "python3"
  },
  "language_info": {
   "codemirror_mode": {
    "name": "ipython",
    "version": 3
   },
   "file_extension": ".py",
   "mimetype": "text/x-python",
   "name": "python",
   "nbconvert_exporter": "python",
   "pygments_lexer": "ipython3",
   "version": "3.6.3"
  }
 },
 "nbformat": 4,
 "nbformat_minor": 2
}
